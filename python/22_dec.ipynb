{
 "cells": [
  {
   "cell_type": "code",
   "execution_count": 1,
   "metadata": {},
   "outputs": [
    {
     "name": "stdout",
     "output_type": "stream",
     "text": [
      "hello\n"
     ]
    }
   ],
   "source": [
    "print(\"hello\")"
   ]
  },
  {
   "cell_type": "code",
   "execution_count": 2,
   "metadata": {},
   "outputs": [],
   "source": [
    "with open(\"test.txt\",'w')as f: # if not present it creates the file \n",
    "    f.write(\"This is my python english batch\")"
   ]
  },
  {
   "cell_type": "code",
   "execution_count": 3,
   "metadata": {},
   "outputs": [],
   "source": [
    "with open(\"test.txt\",'w')as f:\n",
    "    f.write(\"My names is sumanth\")"
   ]
  },
  {
   "cell_type": "code",
   "execution_count": 7,
   "metadata": {},
   "outputs": [],
   "source": [
    "with open(\"test.txt\",'a')as f:\n",
    "    f.write(\"My names is sumanth \")"
   ]
  },
  {
   "cell_type": "code",
   "execution_count": 9,
   "metadata": {},
   "outputs": [
    {
     "ename": "FileNotFoundError",
     "evalue": "[Errno 2] No such file or directory: 'test1.txt'",
     "output_type": "error",
     "traceback": [
      "\u001b[1;31m---------------------------------------------------------------------------\u001b[0m",
      "\u001b[1;31mFileNotFoundError\u001b[0m                         Traceback (most recent call last)",
      "Cell \u001b[1;32mIn [9], line 1\u001b[0m\n\u001b[1;32m----> 1\u001b[0m \u001b[38;5;28;01mwith\u001b[39;00m \u001b[38;5;28;43mopen\u001b[39;49m\u001b[43m(\u001b[49m\u001b[38;5;124;43m'\u001b[39;49m\u001b[38;5;124;43mtest1.txt\u001b[39;49m\u001b[38;5;124;43m'\u001b[39;49m\u001b[43m,\u001b[49m\u001b[38;5;124;43m'\u001b[39;49m\u001b[38;5;124;43mr\u001b[39;49m\u001b[38;5;124;43m'\u001b[39;49m\u001b[43m)\u001b[49m\u001b[38;5;28;01mas\u001b[39;00m f: \u001b[38;5;66;03m# read is available only if the file is available \u001b[39;00m\n\u001b[0;32m      2\u001b[0m     f\u001b[38;5;241m.\u001b[39mread()\n",
      "\u001b[1;31mFileNotFoundError\u001b[0m: [Errno 2] No such file or directory: 'test1.txt'"
     ]
    }
   ],
   "source": [
    "with open('test1.txt','r')as f: # read is available only if the file is available \n",
    "    f.read()\n"
   ]
  },
  {
   "cell_type": "code",
   "execution_count": 10,
   "metadata": {},
   "outputs": [],
   "source": [
    "# in case of write and append file existence is not required "
   ]
  },
  {
   "cell_type": "code",
   "execution_count": 13,
   "metadata": {},
   "outputs": [
    {
     "name": "stdout",
     "output_type": "stream",
     "text": [
      "My names is sumanth\n",
      "My names is sumanth\n",
      "My names is sumanth\n",
      "My names is sumanth\n",
      "My names is sumanth \n"
     ]
    }
   ],
   "source": [
    "with open('test.txt','r')as f:\n",
    "    print(f.read())"
   ]
  },
  {
   "cell_type": "code",
   "execution_count": 14,
   "metadata": {},
   "outputs": [],
   "source": [
    "# function for reading a file "
   ]
  },
  {
   "cell_type": "code",
   "execution_count": 23,
   "metadata": {},
   "outputs": [],
   "source": [
    "def read_file(file_name):\n",
    "    with open(file_name,'r')as f:\n",
    "        print(f.read())\n"
   ]
  },
  {
   "cell_type": "code",
   "execution_count": 24,
   "metadata": {},
   "outputs": [
    {
     "name": "stdout",
     "output_type": "stream",
     "text": [
      "My names is sumanth\n",
      "My names is sumanth\n",
      "My names is sumanth\n",
      "My names is sumanth\n",
      "My names is sumanth \n"
     ]
    }
   ],
   "source": [
    "read_file('test.txt')"
   ]
  },
  {
   "cell_type": "code",
   "execution_count": 18,
   "metadata": {},
   "outputs": [],
   "source": [
    "def read_file1(file_name):\n",
    "    with open(file_name,'r')as f:\n",
    "        return f.read()"
   ]
  },
  {
   "cell_type": "code",
   "execution_count": 21,
   "metadata": {},
   "outputs": [
    {
     "data": {
      "text/plain": [
       "'My names is sumanth\\nMy names is sumanth\\nMy names is sumanth\\nMy names is sumanth\\nMy names is sumanth '"
      ]
     },
     "execution_count": 21,
     "metadata": {},
     "output_type": "execute_result"
    }
   ],
   "source": [
    "read_file1('test.txt') # str "
   ]
  },
  {
   "cell_type": "code",
   "execution_count": 22,
   "metadata": {},
   "outputs": [
    {
     "data": {
      "text/plain": [
       "str"
      ]
     },
     "execution_count": 22,
     "metadata": {},
     "output_type": "execute_result"
    }
   ],
   "source": [
    "type(read_file1('test.txt'))"
   ]
  },
  {
   "cell_type": "code",
   "execution_count": 25,
   "metadata": {},
   "outputs": [
    {
     "name": "stdout",
     "output_type": "stream",
     "text": [
      "My names is sumanth\n",
      "My names is sumanth\n",
      "My names is sumanth\n",
      "My names is sumanth\n",
      "My names is sumanth \n"
     ]
    },
    {
     "data": {
      "text/plain": [
       "NoneType"
      ]
     },
     "execution_count": 25,
     "metadata": {},
     "output_type": "execute_result"
    }
   ],
   "source": [
    "type(read_file(\"test.txt\"))"
   ]
  },
  {
   "cell_type": "code",
   "execution_count": 26,
   "metadata": {},
   "outputs": [],
   "source": [
    "with open(\"test.txt\",'w')as f:\n",
    "    f.write(\"Hi my name is sumant\")"
   ]
  },
  {
   "cell_type": "code",
   "execution_count": 27,
   "metadata": {},
   "outputs": [],
   "source": [
    "# use \\n to use the new line while writing \n"
   ]
  },
  {
   "cell_type": "code",
   "execution_count": 30,
   "metadata": {},
   "outputs": [
    {
     "name": "stdout",
     "output_type": "stream",
     "text": [
      "Hi my name is sumanth\n",
      "Hi my name is sumanth\n",
      "Hi my name is sumanth\n",
      "Hi my name is sumanth\n",
      "Hi my name is sumanth\n",
      "Hi my name is sumanth\n",
      "Hi my name is sumanth\n",
      "Hi my name is sumanth\n",
      "Hi my name is sumanth\n",
      "Hi my name is sumanth\n",
      "\n"
     ]
    }
   ],
   "source": [
    "with open('test.txt','r')as f:\n",
    "    print(f.read())"
   ]
  },
  {
   "cell_type": "code",
   "execution_count": 31,
   "metadata": {},
   "outputs": [
    {
     "name": "stdout",
     "output_type": "stream",
     "text": [
      "Hi my name\n"
     ]
    }
   ],
   "source": [
    "with open('test.txt','r')as f:\n",
    "    print(f.read(10)) # read only 10 char"
   ]
  },
  {
   "cell_type": "code",
   "execution_count": 32,
   "metadata": {},
   "outputs": [
    {
     "name": "stdout",
     "output_type": "stream",
     "text": [
      "Hi my name is sumanth\n",
      "\n"
     ]
    }
   ],
   "source": [
    "with open('test.txt','r')as f:\n",
    "    print(f.readline())"
   ]
  },
  {
   "cell_type": "code",
   "execution_count": 34,
   "metadata": {},
   "outputs": [
    {
     "name": "stdout",
     "output_type": "stream",
     "text": [
      "Hi\n"
     ]
    }
   ],
   "source": [
    "with open('test.txt','r')as f:\n",
    "    print(f.readline(2)) # first line 2 characters"
   ]
  },
  {
   "cell_type": "code",
   "execution_count": 37,
   "metadata": {},
   "outputs": [
    {
     "name": "stdout",
     "output_type": "stream",
     "text": [
      "['Hi my name is sumanth\\n', 'Hi my name is sumanth\\n', 'Hi my name is sumanth\\n', 'Hi my name is sumanth\\n', 'Hi my name is sumanth\\n', 'Hi my name is sumanth\\n', 'Hi my name is sumanth\\n', 'Hi my name is sumanth\\n', 'Hi my name is sumanth\\n', 'Hi my name is sumanth\\n']\n"
     ]
    }
   ],
   "source": [
    "with open('test.txt','r')as f:\n",
    "    print(f.readlines()) # read everyline in list format "
   ]
  },
  {
   "cell_type": "code",
   "execution_count": 38,
   "metadata": {},
   "outputs": [
    {
     "name": "stdout",
     "output_type": "stream",
     "text": [
      "0\n"
     ]
    }
   ],
   "source": [
    "with open('test.txt','r')as f:\n",
    "    print(f.tell())"
   ]
  },
  {
   "cell_type": "code",
   "execution_count": 42,
   "metadata": {},
   "outputs": [
    {
     "name": "stdout",
     "output_type": "stream",
     "text": [
      " name is sumanth\n",
      "Hi my name is sumanth\n",
      "Hi my name is sumanth\n",
      "Hi my name is sumanth\n",
      "Hi my name is sumanth\n",
      "Hi my name is sumanth\n",
      "Hi my name is sumanth\n",
      "Hi my name is sumanth\n",
      "Hi my name is sumanth\n",
      "Hi my name is sumanth\n",
      "\n",
      "230\n",
      " nothing\n"
     ]
    }
   ],
   "source": [
    "with open('test.txt','r')as f:\n",
    "    f.seek(5)\n",
    "    print(f.read())\n",
    "    print(f.tell())\n",
    "    print(f.read(),'nothing')\n"
   ]
  },
  {
   "cell_type": "code",
   "execution_count": 43,
   "metadata": {},
   "outputs": [],
   "source": [
    "# compresion or zipping file "
   ]
  },
  {
   "cell_type": "code",
   "execution_count": 46,
   "metadata": {},
   "outputs": [],
   "source": [
    "import zipfile\n",
    "with zipfile.ZipFile('22_dec_final_file.zip','w')as f:\n",
    "    f.write('22_dec.ipynb')"
   ]
  },
  {
   "cell_type": "code",
   "execution_count": 49,
   "metadata": {},
   "outputs": [],
   "source": [
    "# extract file "
   ]
  },
  {
   "cell_type": "code",
   "execution_count": null,
   "metadata": {},
   "outputs": [],
   "source": [
    "with zipfile.ZipFile('yourfile.zip', 'r') as f:\n",
    "    f.extractall('destination_folder')"
   ]
  },
  {
   "cell_type": "code",
   "execution_count": 47,
   "metadata": {},
   "outputs": [],
   "source": [
    "# exception handling"
   ]
  },
  {
   "cell_type": "code",
   "execution_count": 50,
   "metadata": {},
   "outputs": [
    {
     "ename": "ZeroDivisionError",
     "evalue": "division by zero",
     "output_type": "error",
     "traceback": [
      "\u001b[1;31m---------------------------------------------------------------------------\u001b[0m",
      "\u001b[1;31mZeroDivisionError\u001b[0m                         Traceback (most recent call last)",
      "Cell \u001b[1;32mIn [50], line 3\u001b[0m\n\u001b[0;32m      1\u001b[0m a \u001b[38;5;241m=\u001b[39m \u001b[38;5;28mint\u001b[39m(\u001b[38;5;28minput\u001b[39m(\u001b[38;5;124m\"\u001b[39m\u001b[38;5;124mEnter an integer\u001b[39m\u001b[38;5;124m\"\u001b[39m))\n\u001b[0;32m      2\u001b[0m b \u001b[38;5;241m=\u001b[39m \u001b[38;5;28mint\u001b[39m(\u001b[38;5;28minput\u001b[39m(\u001b[38;5;124m\"\u001b[39m\u001b[38;5;124mEnter an integer\u001b[39m\u001b[38;5;124m\"\u001b[39m))\n\u001b[1;32m----> 3\u001b[0m c \u001b[38;5;241m=\u001b[39m \u001b[43ma\u001b[49m\u001b[38;5;241;43m/\u001b[39;49m\u001b[43mb\u001b[49m\n\u001b[0;32m      4\u001b[0m \u001b[38;5;28mprint\u001b[39m(c)\n\u001b[0;32m      5\u001b[0m \u001b[38;5;28mprint\u001b[39m(\u001b[38;5;124m'\u001b[39m\u001b[38;5;124mhi\u001b[39m\u001b[38;5;124m'\u001b[39m)\n",
      "\u001b[1;31mZeroDivisionError\u001b[0m: division by zero"
     ]
    }
   ],
   "source": [
    "a = int(input(\"Enter an integer\"))\n",
    "b = int(input(\"Enter an integer\"))\n",
    "c = a/b\n",
    "print(c)\n",
    "print('hi')"
   ]
  },
  {
   "cell_type": "code",
   "execution_count": 52,
   "metadata": {},
   "outputs": [
    {
     "name": "stdout",
     "output_type": "stream",
     "text": [
      "The entered variables are  1 0\n",
      "Exception occured and exception is  division by zero\n",
      "This line of code does not gets interupted due to division by zero error\n"
     ]
    }
   ],
   "source": [
    "try:\n",
    "    a = int(input(\"Enter an integer\"))\n",
    "    b = int(input(\"Enter an integer\"))\n",
    "    print(\"The entered variables are \",a,b)\n",
    "    c = a/b\n",
    "    print(c)\n",
    "    print('hi')\n",
    "except Exception as e:\n",
    "    print(\"Exception occured and exception is \",e)\n",
    "print(\"This line of code does not gets interupted due to division by zero error\")\n"
   ]
  },
  {
   "cell_type": "code",
   "execution_count": 54,
   "metadata": {},
   "outputs": [
    {
     "name": "stdout",
     "output_type": "stream",
     "text": [
      "The entered variables are  1 0\n",
      "Exception occured and exception is  division by zero\n",
      "successfully executed\n",
      "This line of code does not gets interupted due to division by zero error\n"
     ]
    }
   ],
   "source": [
    "try:\n",
    "    a = int(input(\"Enter an integer\"))\n",
    "    b = int(input(\"Enter an integer\"))\n",
    "    print(\"The entered variables are \",a,b)\n",
    "    c = a/b\n",
    "    print(c)\n",
    "    print('hi')\n",
    "except Exception as e:\n",
    "    print(\"Exception occured and exception is \",e)\n",
    "finally:\n",
    "   print(\"successfully executed\")\n",
    "print(\"This line of code does not gets interupted due to division by zero error\")\n"
   ]
  },
  {
   "cell_type": "code",
   "execution_count": null,
   "metadata": {},
   "outputs": [],
   "source": []
  }
 ],
 "metadata": {
  "kernelspec": {
   "display_name": "Python 3",
   "language": "python",
   "name": "python3"
  },
  "language_info": {
   "codemirror_mode": {
    "name": "ipython",
    "version": 3
   },
   "file_extension": ".py",
   "mimetype": "text/x-python",
   "name": "python",
   "nbconvert_exporter": "python",
   "pygments_lexer": "ipython3",
   "version": "3.10.7"
  }
 },
 "nbformat": 4,
 "nbformat_minor": 2
}
