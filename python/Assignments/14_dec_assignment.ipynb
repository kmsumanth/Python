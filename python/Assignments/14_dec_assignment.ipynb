{
 "cells": [
  {
   "cell_type": "code",
   "execution_count": null,
   "metadata": {},
   "outputs": [],
   "source": [
    "# if else basic to advance assignment "
   ]
  },
  {
   "cell_type": "code",
   "execution_count": 1,
   "metadata": {},
   "outputs": [],
   "source": [
    "#Write a program to check if a number is positive, negative, or zero.\n"
   ]
  },
  {
   "cell_type": "code",
   "execution_count": 2,
   "metadata": {},
   "outputs": [],
   "source": [
    "#Write a program to check if a number is positive, negative, or zero.\n"
   ]
  },
  {
   "cell_type": "code",
   "execution_count": 6,
   "metadata": {},
   "outputs": [
    {
     "name": "stdout",
     "output_type": "stream",
     "text": [
      "the entered number is :  0\n",
      "the entered number is Zero\n"
     ]
    }
   ],
   "source": [
    "number = int(input(\"Enter a number if check whether it is positive , negativer or Zero\"))\n",
    "print(\"the entered number is : \",number)\n",
    "if number == 0:\n",
    "    print(\"the entered number is Zero\")\n",
    "elif number < 0:\n",
    "    print(\"the entered number is negative\")\n",
    "else:\n",
    "    print(\"the entered number is positive\")"
   ]
  },
  {
   "cell_type": "code",
   "execution_count": 7,
   "metadata": {},
   "outputs": [],
   "source": [
    "#Write a program to determine if a given year is a leap year.\n"
   ]
  },
  {
   "cell_type": "code",
   "execution_count": 8,
   "metadata": {},
   "outputs": [
    {
     "name": "stdout",
     "output_type": "stream",
     "text": [
      "the entered year is :  2024\n",
      "The Entered year is a leap year\n"
     ]
    }
   ],
   "source": [
    "year = int(input(\"Enter the year\"))\n",
    "print(\"the entered year is : \",year)\n",
    "if year % 4 ==0 and (year %100 !=0 or year%400 == 0 ):\n",
    "    print(\"The Entered year is a leap year\")\n",
    "else:\n",
    "    print(\"the entered year is not a leap year\")"
   ]
  },
  {
   "cell_type": "code",
   "execution_count": 9,
   "metadata": {},
   "outputs": [],
   "source": [
    "#Create a program that checks if a number is even or odd.\n"
   ]
  },
  {
   "cell_type": "code",
   "execution_count": 12,
   "metadata": {},
   "outputs": [
    {
     "name": "stdout",
     "output_type": "stream",
     "text": [
      "the enter number is : 2\n",
      "the entered number 2 is even\n"
     ]
    }
   ],
   "source": [
    "number = int(input(\"Enter a number\"))\n",
    "print(\"the enter number is :\",number)\n",
    "if number % 2 == 0:\n",
    "    print(f\"the entered number {number} is even\")\n",
    "else:\n",
    "    print(f\"the entered number {number} is odd\")"
   ]
  },
  {
   "cell_type": "code",
   "execution_count": 13,
   "metadata": {},
   "outputs": [],
   "source": [
    "#Write a program to determine if a given character is a vowel or a consonant.\n"
   ]
  },
  {
   "cell_type": "code",
   "execution_count": 20,
   "metadata": {},
   "outputs": [
    {
     "name": "stdout",
     "output_type": "stream",
     "text": [
      "the entered char is : A\n",
      "the entered char is : vowel\n"
     ]
    }
   ],
   "source": [
    "c = input(\"Enter a char\")\n",
    "print(\"the entered char is :\",c)\n",
    "if c.lower() in 'aeiou':\n",
    "    print(\"the entered char is : vowel\")\n",
    "else:\n",
    "    print(\"the entered char is not vowel\")"
   ]
  },
  {
   "cell_type": "code",
   "execution_count": 21,
   "metadata": {},
   "outputs": [],
   "source": [
    "#Write a program to check if a person is eligible to vote based on their age.\n"
   ]
  },
  {
   "cell_type": "code",
   "execution_count": 27,
   "metadata": {},
   "outputs": [
    {
     "name": "stdout",
     "output_type": "stream",
     "text": [
      "Your age is  14\n",
      "you are not eligible to vote \n",
      "Please wait for 4 years\n"
     ]
    }
   ],
   "source": [
    "dob = int(input(\"Enter your date of Birth\"))\n",
    "age = 2024-dob\n",
    "print(\"Your age is \",age)\n",
    "if age < 18:\n",
    "    print(\"you are not eligible to vote \")\n",
    "    print(f\"Please wait for {18-age} years\")\n",
    "else:\n",
    "    print(\"you are eligible for voting\")"
   ]
  },
  {
   "cell_type": "code",
   "execution_count": 28,
   "metadata": {},
   "outputs": [],
   "source": [
    "#Write a program to find the largest of three numbers entered by the user.\n"
   ]
  },
  {
   "cell_type": "code",
   "execution_count": 32,
   "metadata": {},
   "outputs": [
    {
     "name": "stdout",
     "output_type": "stream",
     "text": [
      "the entered numbers are 1 3 2\n",
      "3\n"
     ]
    }
   ],
   "source": [
    "num1 = int(input(\"Enter the first number\"))\n",
    "num2 = int(input(\"Enter the second number\"))\n",
    "num3 = int(input(\"Enter the third number\"))\n",
    "print(\"the entered numbers are\",num1,num2,num3)\n",
    "if num1 > num2 and num1 > num3:\n",
    "    print(num1)\n",
    "elif num2 > num3:\n",
    "    print(num2)\n",
    "else:\n",
    "    print(num3)\n"
   ]
  },
  {
   "cell_type": "code",
   "execution_count": 33,
   "metadata": {},
   "outputs": [],
   "source": [
    "#Write a program to check if a given number is divisible by 5 and 11.\n"
   ]
  },
  {
   "cell_type": "code",
   "execution_count": 35,
   "metadata": {},
   "outputs": [
    {
     "name": "stdout",
     "output_type": "stream",
     "text": [
      "the entered number is :  55\n",
      "the number is divisible by 11 and 5 \n"
     ]
    }
   ],
   "source": [
    "number = int(input('Enter the number to check the divisibility of 5 and 11 '))\n",
    "print(\"the entered number is : \",number)\n",
    "if number % 11 == 0 and number % 5 == 0:\n",
    "    print(\"the number is divisible by 11 and 5 \")\n",
    "else:\n",
    "    print(\"the number is not divisble by 11 and 5\")\n",
    "    "
   ]
  },
  {
   "cell_type": "code",
   "execution_count": 36,
   "metadata": {},
   "outputs": [],
   "source": [
    "#Write a program to categorize a person’s BMI into underweight, normal weight, overweight, or obese.\n",
    "# Normal weight: 18.5 ≤ BMI < 24.9\n",
    "# Overweight: 25 ≤ BMI < 29.9\n",
    "# Obese: BMI ≥ 30"
   ]
  },
  {
   "cell_type": "code",
   "execution_count": 43,
   "metadata": {},
   "outputs": [
    {
     "name": "stdout",
     "output_type": "stream",
     "text": [
      "the entered weight and height is : 100.0 5.0\n",
      "overweight\n"
     ]
    }
   ],
   "source": [
    "weight = float(input(\"Enter the weight in kgs \"))\n",
    "height = float(input(\"Enter the height in meters\"))\n",
    "print(\"the entered weight and height is :\",weight,height)\n",
    "bmi = weight/height**2\n",
    "if bmi > 18.5 and bmi <24.9:\n",
    "    print(\"Normal weight\")\n",
    "elif bmi >= 25 and bmi <29.9:\n",
    "    print(\"Overweight\")\n",
    "else:\n",
    "    print(\"overweight\")\n"
   ]
  },
  {
   "cell_type": "code",
   "execution_count": 37,
   "metadata": {},
   "outputs": [],
   "source": [
    "#Write a program to determine the type of triangle based on the lengths of its sides (equilateral, isosceles, or scalene).\n"
   ]
  },
  {
   "cell_type": "code",
   "execution_count": 46,
   "metadata": {},
   "outputs": [
    {
     "name": "stdout",
     "output_type": "stream",
     "text": [
      "The entered sides are  1.0 1.0 3.0\n",
      "isosceles\n"
     ]
    }
   ],
   "source": [
    "side1 = float(input(\"Enter the first side\"))\n",
    "side2 = float(input(\"Enter the second side\"))\n",
    "side3 = float(input(\"Enter the third side\"))\n",
    "print(\"The entered sides are \",side1,side2,side3)\n",
    "if side1 == side2 == side3:\n",
    "    print(\"equilateral\")\n",
    "elif side1 == side2 or side2 == side3 or side3 == side1:\n",
    "    print(\"isosceles\")\n",
    "else:\n",
    "    print('scalene')"
   ]
  },
  {
   "cell_type": "code",
   "execution_count": 38,
   "metadata": {},
   "outputs": [],
   "source": [
    "#Write a program to determine if a character entered by the user is uppercase, lowercase, or a digit.\n"
   ]
  },
  {
   "cell_type": "code",
   "execution_count": 41,
   "metadata": {},
   "outputs": [
    {
     "name": "stdout",
     "output_type": "stream",
     "text": [
      "the entered char is :  A\n",
      "the entered string is upper cased\n"
     ]
    }
   ],
   "source": [
    "string = input(\"Enter a char\")\n",
    "print(\"the entered char is : \",string)\n",
    "if string.isdigit():\n",
    "    print(\"the entered string is digit\")\n",
    "elif string.islower():\n",
    "    print(\"the entered string is lower cased\")\n",
    "elif string.isupper():\n",
    "    print(\"the entered string is upper cased\")\n"
   ]
  },
  {
   "cell_type": "code",
   "execution_count": 1,
   "metadata": {},
   "outputs": [],
   "source": [
    "#Write a program to calculate the grade of a student based on their marks using multiple elif conditions.\n"
   ]
  },
  {
   "cell_type": "code",
   "execution_count": 3,
   "metadata": {},
   "outputs": [
    {
     "data": {
      "text/plain": [
       "'Grade A: Marks are greater than or equal to 90.\\nGrade B: Marks are greater than or equal to 80 and less than 90.\\nGrade C: Marks are greater than or equal to 70 and less than 80.\\nGrade D: Marks are greater than or equal to 60 and less than 70.\\nGrade E: Marks are greater than or equal to 50 and less than 60.\\nGrade F: Marks are less than 50.\\n\\n'"
      ]
     },
     "execution_count": 3,
     "metadata": {},
     "output_type": "execute_result"
    }
   ],
   "source": [
    "# assumption\n",
    "\"\"\"Grade A: Marks are greater than or equal to 90.\n",
    "Grade B: Marks are greater than or equal to 80 and less than 90.\n",
    "Grade C: Marks are greater than or equal to 70 and less than 80.\n",
    "Grade D: Marks are greater than or equal to 60 and less than 70.\n",
    "Grade E: Marks are greater than or equal to 50 and less than 60.\n",
    "Grade F: Marks are less than 50.\n",
    "\n",
    "\"\"\""
   ]
  },
  {
   "cell_type": "code",
   "execution_count": 5,
   "metadata": {},
   "outputs": [
    {
     "name": "stdout",
     "output_type": "stream",
     "text": [
      "the entered marks is : 90.0\n",
      "Grade A\n"
     ]
    }
   ],
   "source": [
    "marks = float(input(\"Enter the total marks\"))\n",
    "print(\"the entered marks is :\",marks)\n",
    "if  marks >= 90:\n",
    "    print(\"Grade A\")\n",
    "elif marks >=70 and marks<90:\n",
    "    print(\"Grade B\")\n",
    "elif marks >=70 and marks <80:\n",
    "    print(\"Grade c\")\n",
    "elif marks >=60 and marks < 70:\n",
    "    print(\"Grade D\")\n",
    "elif marks >=50 and marks <60 :\n",
    "    print(\"Grade E\")\n",
    "else:\n",
    "    print(\"Grade F\")"
   ]
  },
  {
   "cell_type": "code",
   "execution_count": 6,
   "metadata": {},
   "outputs": [],
   "source": [
    "#Write a program to simulate a traffic light system (red, yellow, green).\n"
   ]
  },
  {
   "cell_type": "code",
   "execution_count": 7,
   "metadata": {},
   "outputs": [
    {
     "name": "stdout",
     "output_type": "stream",
     "text": [
      "the entered traffic signal is : green\n",
      "You can go \n"
     ]
    }
   ],
   "source": [
    "light = input(\"Enter the current traffic signal\")\n",
    "print(\"the entered traffic signal is :\",light)\n",
    "if light.lower() == 'Green'.lower():\n",
    "    print(\"You can go \")\n",
    "elif light.lower() == 'Red'.lower():\n",
    "    print(\"You have to stop now\")\n",
    "else:\n",
    "    print(\"You can start your vehicle and wait till it become green\")"
   ]
  },
  {
   "cell_type": "code",
   "execution_count": 8,
   "metadata": {},
   "outputs": [],
   "source": [
    "#Write a program to calculate the electricity bill based on slab rates for different units.\n"
   ]
  },
  {
   "cell_type": "code",
   "execution_count": 9,
   "metadata": {},
   "outputs": [],
   "source": [
    "# assumptions "
   ]
  },
  {
   "cell_type": "code",
   "execution_count": null,
   "metadata": {},
   "outputs": [],
   "source": [
    "\"\"\"\n",
    "Slab 1: For the first 100 units, charge at Rate 1 per unit.\n",
    "Slab 2: For units between 101 and 200, charge at Rate 2 per unit.\n",
    "Slab 3: For units between 201 and 300, charge at Rate 3 per unit.\n",
    "Slab 4: For units above 300, charge at Rate 4 per unit.\n",
    "\"\"\""
   ]
  },
  {
   "cell_type": "code",
   "execution_count": 11,
   "metadata": {},
   "outputs": [
    {
     "name": "stdout",
     "output_type": "stream",
     "text": [
      "The entered units are : 100.0\n",
      "the rate is : 100.0\n"
     ]
    }
   ],
   "source": [
    "units = float(input(\"Enter the units\"))\n",
    "print(\"The entered units are :\",units)\n",
    "if units <= 100:\n",
    "    rate = units*1\n",
    "elif units > 101 and units <= 200 :\n",
    "    rate = units *2 \n",
    "elif units > 201 and units<=300:\n",
    "    rate = units *3\n",
    "else:\n",
    "    rate = units * 4\n",
    "print(\"the rate is :\",rate)"
   ]
  },
  {
   "cell_type": "code",
   "execution_count": 12,
   "metadata": {},
   "outputs": [],
   "source": [
    "#Create a program to determine if a given string starts with a vowel or not.\n"
   ]
  },
  {
   "cell_type": "code",
   "execution_count": 15,
   "metadata": {},
   "outputs": [
    {
     "name": "stdout",
     "output_type": "stream",
     "text": [
      "the entered string is : a\n",
      "The string a starts with the vowel a\n"
     ]
    }
   ],
   "source": [
    "string = input(\"Enter a sting\")\n",
    "print(\"the entered string is :\",string)\n",
    "if string[0].lower() in 'aeiou':\n",
    "    print(f\"The string {string} starts with the vowel {string[0]}\")\n",
    "else:\n",
    "    print(\"The string does not start with the vowel\")"
   ]
  },
  {
   "cell_type": "code",
   "execution_count": 16,
   "metadata": {},
   "outputs": [],
   "source": [
    "#Write a program to calculate the income tax for a user based on their income slab.\n"
   ]
  },
  {
   "cell_type": "code",
   "execution_count": 17,
   "metadata": {},
   "outputs": [],
   "source": [
    "# assumptions "
   ]
  },
  {
   "cell_type": "code",
   "execution_count": 18,
   "metadata": {},
   "outputs": [
    {
     "data": {
      "text/plain": [
       "'\\nNo Tax: Income up to ₹2,50,000 is tax-free.\\n5% Tax: Income between ₹2,50,001 and ₹5,00,000 is taxed at 5%.\\n10% Tax: Income between ₹5,00,001 and ₹7,50,000 is taxed at 10%.\\n15% Tax: Income between ₹7,50,001 and ₹10,00,000 is taxed at 15%.\\n20% Tax: Income between ₹10,00,001 and ₹12,50,000 is taxed at 20%.\\n25% Tax: Income between ₹12,50,001 and ₹15,00,000 is taxed at 25%.\\n30% Tax: Income above ₹15,00,000 is taxed at 30%.\\n'"
      ]
     },
     "execution_count": 18,
     "metadata": {},
     "output_type": "execute_result"
    }
   ],
   "source": [
    "\"\"\"\n",
    "No Tax: Income up to ₹2,50,000 is tax-free.\n",
    "5% Tax: Income between ₹2,50,001 and ₹5,00,000 is taxed at 5%.\n",
    "10% Tax: Income between ₹5,00,001 and ₹7,50,000 is taxed at 10%.\n",
    "15% Tax: Income between ₹7,50,001 and ₹10,00,000 is taxed at 15%.\n",
    "20% Tax: Income between ₹10,00,001 and ₹12,50,000 is taxed at 20%.\n",
    "25% Tax: Income between ₹12,50,001 and ₹15,00,000 is taxed at 25%.\n",
    "30% Tax: Income above ₹15,00,000 is taxed at 30%.\n",
    "\"\"\""
   ]
  },
  {
   "cell_type": "code",
   "execution_count": 20,
   "metadata": {},
   "outputs": [
    {
     "name": "stdout",
     "output_type": "stream",
     "text": [
      "The entered income is :  1000000.0\n",
      "15% tax\n"
     ]
    }
   ],
   "source": [
    "income = float(input(\"Enter your income\"))\n",
    "print(\"The entered income is : \",income)\n",
    "if income <=250000:\n",
    "    print(\"No tax\")\n",
    "elif income > 250000 and income <=500000:\n",
    "    print(\"5% tax\")\n",
    "elif income > 500000 and income <= 750000:\n",
    "    print(\"10% tax\")\n",
    "elif income > 750000 and income <= 1000000:\n",
    "    print(\"15% tax\")\n",
    "elif income > 1000000 and income <=1250000:\n",
    "    print(\"20% tax\")\n",
    "elif income > 1250000 and income <=1500000:\n",
    "    print(\"25% tax\")\n",
    "else:\n",
    "    print(\"30% tax\")\n",
    "    "
   ]
  },
  {
   "cell_type": "code",
   "execution_count": 21,
   "metadata": {},
   "outputs": [],
   "source": [
    "#Write a program that checks if a given number is prime or not using conditional statements.\n"
   ]
  },
  {
   "cell_type": "code",
   "execution_count": 25,
   "metadata": {},
   "outputs": [
    {
     "name": "stdout",
     "output_type": "stream",
     "text": [
      "the entered number is :  5\n",
      "Prime number\n"
     ]
    }
   ],
   "source": [
    "number = int(input(\"Enter a number\"))\n",
    "print(\"the entered number is : \",number)\n",
    "for i in range(2,number):\n",
    "    if number%i == 0:\n",
    "        print(\"Not a prime number\")\n",
    "        break\n",
    "else:\n",
    "    print(\"Prime number\")\n"
   ]
  },
  {
   "cell_type": "code",
   "execution_count": 26,
   "metadata": {},
   "outputs": [],
   "source": [
    "# for else block if for loop is fully executed without breaking then only else block will be executed if it break in middle then else block wont be excuted"
   ]
  },
  {
   "cell_type": "code",
   "execution_count": 27,
   "metadata": {},
   "outputs": [],
   "source": [
    "#Write a program to determine if a number is a palindrome or not.\n"
   ]
  },
  {
   "cell_type": "code",
   "execution_count": 28,
   "metadata": {},
   "outputs": [
    {
     "name": "stdout",
     "output_type": "stream",
     "text": [
      "the entered number is :  101\n",
      "The number is palindrome\n"
     ]
    }
   ],
   "source": [
    "number = input(\"Enter a number\")\n",
    "print(\"the entered number is : \",number)\n",
    "if number == number[::-1]:\n",
    "    print(\"The number is palindrome\")\n",
    "else:\n",
    "    print(\"Not a palindrome number\")"
   ]
  },
  {
   "cell_type": "code",
   "execution_count": 29,
   "metadata": {},
   "outputs": [],
   "source": [
    "#Write a program to display the menu of a coffee shop and take the user’s order based on input.\n"
   ]
  },
  {
   "cell_type": "code",
   "execution_count": null,
   "metadata": {},
   "outputs": [],
   "source": [
    "\"\"\"\n",
    "Espresso: ₹100\n",
    "Cappuccino: ₹120\n",
    "Latte: ₹150\n",
    "\n",
    "\"\"\""
   ]
  },
  {
   "cell_type": "code",
   "execution_count": 31,
   "metadata": {},
   "outputs": [
    {
     "name": "stdout",
     "output_type": "stream",
     "text": [
      "the entered order is :  espresso\n",
      "Your bill is 100 Thank you Visit again\n"
     ]
    }
   ],
   "source": [
    "order = input(\"Enter you order\")\n",
    "print(\"the entered order is : \",order)\n",
    "if order.lower() == 'espresso':\n",
    "    print(f\"Your bill is {100} Thank you Visit again\")\n",
    "elif order.lower() == 'cappuccino':\n",
    "    print(f'Your bill is {120} Thank you visit again')\n",
    "elif order.lower() == 'latte':\n",
    "    print(f\"Youre bill is {150} Thank you visit again \")\n",
    "else:\n",
    "    print(\"Invalid order Please try again\")"
   ]
  },
  {
   "cell_type": "code",
   "execution_count": 30,
   "metadata": {},
   "outputs": [],
   "source": [
    "#Write a program to check whether a person is eligible for a senior citizen discount based on their age.\n"
   ]
  },
  {
   "cell_type": "code",
   "execution_count": 33,
   "metadata": {},
   "outputs": [
    {
     "name": "stdout",
     "output_type": "stream",
     "text": [
      "The entered age is :  60\n",
      "Your eligible for senior citizenship discount\n"
     ]
    }
   ],
   "source": [
    "age = int(input(\"Enter your age\"))\n",
    "print(\"The entered age is : \",age)\n",
    "if age >= 60:\n",
    "    print(\"Your eligible for senior citizenship discount\")\n",
    "else:\n",
    "    print(\"You are not eligible for senior citizenship discount\")"
   ]
  },
  {
   "cell_type": "code",
   "execution_count": 34,
   "metadata": {},
   "outputs": [],
   "source": [
    "# advanced"
   ]
  },
  {
   "cell_type": "code",
   "execution_count": 35,
   "metadata": {},
   "outputs": [],
   "source": [
    "# Write a program to determine if a number is a strong number (sum of factorials of its digits equals the number itself).\n"
   ]
  },
  {
   "cell_type": "code",
   "execution_count": 42,
   "metadata": {},
   "outputs": [
    {
     "name": "stdout",
     "output_type": "stream",
     "text": [
      "the entered number is :  145\n",
      "Strong number\n"
     ]
    }
   ],
   "source": [
    "import math\n",
    "number = int(input(\"Enter the number\"))\n",
    "temp = number\n",
    "print(\"the entered number is : \",number)\n",
    "sum = 0\n",
    "while number > 0:\n",
    "    rem = number%10\n",
    "    digit_fact = math.factorial(rem)\n",
    "    sum += digit_fact\n",
    "    number = number//10\n",
    "if temp == sum :\n",
    "    print(\"Strong number\")\n",
    "else:\n",
    "    print(\"Not a strong number}\")\n",
    "    \n"
   ]
  },
  {
   "cell_type": "code",
   "execution_count": 43,
   "metadata": {},
   "outputs": [],
   "source": []
  },
  {
   "cell_type": "code",
   "execution_count": null,
   "metadata": {},
   "outputs": [],
   "source": []
  }
 ],
 "metadata": {
  "kernelspec": {
   "display_name": "Python 3",
   "language": "python",
   "name": "python3"
  },
  "language_info": {
   "codemirror_mode": {
    "name": "ipython",
    "version": 3
   },
   "file_extension": ".py",
   "mimetype": "text/x-python",
   "name": "python",
   "nbconvert_exporter": "python",
   "pygments_lexer": "ipython3",
   "version": "3.10.7"
  }
 },
 "nbformat": 4,
 "nbformat_minor": 2
}
