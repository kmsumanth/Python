{
 "cells": [
  {
   "cell_type": "code",
   "execution_count": null,
   "metadata": {},
   "outputs": [],
   "source": [
    "#Assignment Questions for Euron on Object-Oriented Programming and Advanced Python Topics\n",
    "# Section 1: Class Basics\n",
    "# Defining Classes"
   ]
  },
  {
   "cell_type": "code",
   "execution_count": 1,
   "metadata": {},
   "outputs": [],
   "source": [
    "# 1)Create a class called Course with attributes: course_id, course_name, and instructor_name. Add a method to display the course details.\n"
   ]
  },
  {
   "cell_type": "code",
   "execution_count": 2,
   "metadata": {},
   "outputs": [],
   "source": [
    "class Course:\n",
    "    def __init__(self,course_id,course_name,instructor_name):\n",
    "        self.course_id = course_id\n",
    "        self.course_name = course_name\n",
    "        self.instructor_name = instructor_name\n",
    "    \n",
    "    def display(self):\n",
    "        try:\n",
    "            print(\"Displaying the course details\")\n",
    "            print(f\"course id {self.course_id}, course name {self.course_name} and instructor name {self.instructor_name}\")\n",
    "        except Exception as e:\n",
    "            print(\"Exception occured in display method\")"
   ]
  },
  {
   "cell_type": "code",
   "execution_count": 3,
   "metadata": {},
   "outputs": [],
   "source": [
    "course = Course('1','python','sumanth')"
   ]
  },
  {
   "cell_type": "code",
   "execution_count": 4,
   "metadata": {},
   "outputs": [
    {
     "name": "stdout",
     "output_type": "stream",
     "text": [
      "Displaying the course details\n",
      "course id 1, course name python and instructor name sumanth\n"
     ]
    }
   ],
   "source": [
    "course.display()"
   ]
  },
  {
   "cell_type": "code",
   "execution_count": 5,
   "metadata": {},
   "outputs": [],
   "source": [
    "#Create another class called Student with attributes: student_id, name, and enrolled_courses (a list). Add a method to enroll a student in a course.\n"
   ]
  },
  {
   "cell_type": "code",
   "execution_count": 23,
   "metadata": {},
   "outputs": [],
   "source": [
    "class Student:\n",
    "    def __init__(self,student_id,name,enrolled_courses:list):\n",
    "        self.student_id = student_id\n",
    "        self.name = name\n",
    "        self.enrolled_courses = enrolled_courses\n",
    "    def enroll(self):\n",
    "        try:\n",
    "            print(f\"{self.name} is enrolled in the courses {self.enrolled_courses}\")\n",
    "        except Exception as e:\n",
    "            print(\"Exception occured in enroll method of Student class\")"
   ]
  },
  {
   "cell_type": "code",
   "execution_count": 24,
   "metadata": {},
   "outputs": [],
   "source": [
    "student = Student('1','sumanth',['python','big data','mlops','generative ai','data science','computer vision'])"
   ]
  },
  {
   "cell_type": "code",
   "execution_count": 25,
   "metadata": {},
   "outputs": [
    {
     "name": "stdout",
     "output_type": "stream",
     "text": [
      "sumanth is enrolled in the courses ['python', 'big data', 'mlops', 'generative ai', 'data science', 'computer vision']\n"
     ]
    }
   ],
   "source": [
    "student.enroll()"
   ]
  },
  {
   "cell_type": "code",
   "execution_count": 26,
   "metadata": {},
   "outputs": [],
   "source": [
    "#Section 2: Instance Variables and Methods\n",
    "#Working with Instance Variables"
   ]
  },
  {
   "cell_type": "code",
   "execution_count": 27,
   "metadata": {},
   "outputs": [],
   "source": [
    "# 2)Define a class Subscription with instance variables user_name, subscription_type, and price. Write methods to:\n",
    "# Display the subscription details.\n",
    "# Upgrade the subscription type to a higher plan and update the price accordingly."
   ]
  },
  {
   "cell_type": "code",
   "execution_count": 28,
   "metadata": {},
   "outputs": [],
   "source": [
    "class Subscription:\n",
    "    def __init__(self,user_name,subscription_type,price):\n",
    "        self.user_name = user_name\n",
    "        self.subscription_type = subscription_type\n",
    "        self.price = price\n",
    "        \n",
    "    def display(self):\n",
    "        try:\n",
    "            print(f\"The subscription type is {self.subscription_type}\")\n",
    "        except Exception as e:\n",
    "            print(\"Exception occured in display method\")\n",
    "    \n",
    "    def upgrade_subscription(self,price):\n",
    "        try:\n",
    "            if self.subscription_type!='euron_plus':\n",
    "                    self.subscription_type = 'euron_plus'\n",
    "                    self.price = price\n",
    "            else:\n",
    "                print(\"Subcription is already euron_plus, Happy Learning\")\n",
    "        except Exception as e:\n",
    "            print(\"Exception occured in upgrade_subscription method\")"
   ]
  },
  {
   "cell_type": "code",
   "execution_count": 29,
   "metadata": {},
   "outputs": [],
   "source": [
    "subscription = Subscription('sumanth','euron_plus',2000)"
   ]
  },
  {
   "cell_type": "code",
   "execution_count": 30,
   "metadata": {},
   "outputs": [
    {
     "name": "stdout",
     "output_type": "stream",
     "text": [
      "The subscription type is euron_plus\n"
     ]
    }
   ],
   "source": [
    "subscription.display()"
   ]
  },
  {
   "cell_type": "code",
   "execution_count": 32,
   "metadata": {},
   "outputs": [
    {
     "name": "stdout",
     "output_type": "stream",
     "text": [
      "Subcription is already euron_plus, Happy Learning\n"
     ]
    }
   ],
   "source": [
    "subscription.upgrade_subscription(2000)"
   ]
  },
  {
   "cell_type": "code",
   "execution_count": 84,
   "metadata": {},
   "outputs": [],
   "source": [
    "# Section 3: Constructors and Destructors\n",
    "# Using __init__ and __del__\n",
    "# Implement a class DatabaseConnection to simulate connecting to a database. Use:\n",
    "# __init__ to initialize the connection and print \"Connected to the database.\"\n",
    "# __del__ to print \"Disconnected from the database.\""
   ]
  },
  {
   "cell_type": "code",
   "execution_count": 85,
   "metadata": {},
   "outputs": [
    {
     "name": "stdout",
     "output_type": "stream",
     "text": [
      "Connected to the database.\n",
      "Disconnected from the database.\n"
     ]
    }
   ],
   "source": [
    "\n",
    "class DatabaseConnection:\n",
    "    def __init__(self):\n",
    "        print(\"Connected to the database.\")\n",
    "\n",
    "    def __del__(self):\n",
    "        print(\"Disconnected from the database.\")\n",
    "\n",
    "\n",
    "# Example usage:\n",
    "db = DatabaseConnection()\n",
    "del db\n"
   ]
  },
  {
   "cell_type": "code",
   "execution_count": 33,
   "metadata": {},
   "outputs": [],
   "source": [
    "# Section 4: Inheritance and Polymorphism\n",
    "# Using Inheritance\n",
    "# Create a base class User with attributes user_id and name. Add a method show_user_details.\n",
    "# Derive two subclasses: Student and Teacher. Add specific attributes and override the show_user_details method for both."
   ]
  },
  {
   "cell_type": "code",
   "execution_count": 36,
   "metadata": {},
   "outputs": [],
   "source": [
    "class User:\n",
    "    def __init__(self,user_id,name):\n",
    "        self.user_id = user_id \n",
    "        self.name = name\n",
    "        \n",
    "    def show_user_details(self):\n",
    "        try:\n",
    "            print(\"Displaying the user details\")\n",
    "            print(self.user_id)\n",
    "            print(self.name)\n",
    "        except Exception as e:\n",
    "            print(\"An Exception occured in show_user_details method\")\n",
    "            "
   ]
  },
  {
   "cell_type": "code",
   "execution_count": 37,
   "metadata": {},
   "outputs": [],
   "source": [
    "class Teacher(User):\n",
    "    def __init__(self, user_id, name,subject):\n",
    "        super().__init__(user_id, name)\n",
    "        self.subject = subject\n",
    "    \n",
    "    def show_user_details(self):\n",
    "        try:\n",
    "            super().show_user_details()\n",
    "            print(self.subject)\n",
    "        except Exception as e:\n",
    "            print(\"An exception occured at show_user_details of Teacher class\")"
   ]
  },
  {
   "cell_type": "code",
   "execution_count": 73,
   "metadata": {},
   "outputs": [],
   "source": [
    "\n",
    "class Student(User):\n",
    "    def __init__(self, user_id, name,class_name):\n",
    "        super().__init__(user_id,name)\n",
    "        self.class_name = class_name\n",
    "        \n",
    "    def show_user_details(self):\n",
    "        try:\n",
    "            super().show_user_details()\n",
    "            print(self.class_name)\n",
    "        except Exception as e:\n",
    "            print(\"An exception occured at Student class show_user_details method\")\n",
    "            \n",
    "    \n",
    "        "
   ]
  },
  {
   "cell_type": "code",
   "execution_count": 74,
   "metadata": {},
   "outputs": [],
   "source": [
    "user = User('111','sumanth')"
   ]
  },
  {
   "cell_type": "code",
   "execution_count": 75,
   "metadata": {},
   "outputs": [
    {
     "name": "stdout",
     "output_type": "stream",
     "text": [
      "Displaying the user details\n",
      "111\n",
      "sumanth\n"
     ]
    }
   ],
   "source": [
    "user.show_user_details()"
   ]
  },
  {
   "cell_type": "code",
   "execution_count": 76,
   "metadata": {},
   "outputs": [],
   "source": [
    "teacher = Teacher('222','kms','Mathematics')"
   ]
  },
  {
   "cell_type": "code",
   "execution_count": 77,
   "metadata": {},
   "outputs": [
    {
     "name": "stdout",
     "output_type": "stream",
     "text": [
      "Displaying the user details\n",
      "222\n",
      "kms\n",
      "Mathematics\n"
     ]
    }
   ],
   "source": [
    "teacher.show_user_details()"
   ]
  },
  {
   "cell_type": "code",
   "execution_count": 78,
   "metadata": {},
   "outputs": [],
   "source": [
    "student = Student('333','student','5 th std')"
   ]
  },
  {
   "cell_type": "code",
   "execution_count": 79,
   "metadata": {},
   "outputs": [
    {
     "name": "stdout",
     "output_type": "stream",
     "text": [
      "Displaying the user details\n",
      "333\n",
      "student\n",
      "5 th std\n"
     ]
    }
   ],
   "source": [
    "student.show_user_details()"
   ]
  },
  {
   "cell_type": "code",
   "execution_count": null,
   "metadata": {},
   "outputs": [],
   "source": [
    "# Polymorphism\n",
    "# Write a function show_details(entity) that takes an instance of either Student or Teacher and calls the appropriate show_user_details method."
   ]
  },
  {
   "cell_type": "code",
   "execution_count": 80,
   "metadata": {},
   "outputs": [],
   "source": [
    "def show_details(entity):\n",
    "    entity.show_user_details()"
   ]
  },
  {
   "cell_type": "code",
   "execution_count": 81,
   "metadata": {},
   "outputs": [
    {
     "name": "stdout",
     "output_type": "stream",
     "text": [
      "Displaying the user details\n",
      "333\n",
      "student\n",
      "5 th std\n"
     ]
    }
   ],
   "source": [
    "show_details(student)"
   ]
  },
  {
   "cell_type": "code",
   "execution_count": 82,
   "metadata": {},
   "outputs": [
    {
     "name": "stdout",
     "output_type": "stream",
     "text": [
      "Displaying the user details\n",
      "222\n",
      "kms\n",
      "Mathematics\n"
     ]
    }
   ],
   "source": [
    "show_details(teacher)"
   ]
  },
  {
   "cell_type": "code",
   "execution_count": 83,
   "metadata": {},
   "outputs": [],
   "source": [
    "# Section 5: Encapsulation and Abstraction\n",
    "# Encapsulation\n",
    "# Implement a class Payment with private attributes _card_number and _cvv. Add methods to:\n",
    "# Set and get card details securely.\n",
    "# Validate the CVV."
   ]
  },
  {
   "cell_type": "code",
   "execution_count": 86,
   "metadata": {},
   "outputs": [],
   "source": [
    "class Payment:\n",
    "    def __init__(self,card_number,cvv):\n",
    "        self.__card_number = card_number\n",
    "        self.__cvv = cvv\n",
    "    \n",
    "    def get_card_details(self):\n",
    "        return self.__card_number,self.__cvv\n",
    "    \n",
    "    def set_card_details(self,card_number,cvv):\n",
    "        self.__card_number = card_number\n",
    "        self.__cvv = cvv\n",
    "        \n",
    "    def validate(self,cvv):\n",
    "        return self.__cvv == cvv\n",
    "    "
   ]
  },
  {
   "cell_type": "code",
   "execution_count": 87,
   "metadata": {},
   "outputs": [],
   "source": [
    "payment = Payment(12345567890,123)"
   ]
  },
  {
   "cell_type": "code",
   "execution_count": 88,
   "metadata": {},
   "outputs": [
    {
     "data": {
      "text/plain": [
       "(12345567890, 123)"
      ]
     },
     "execution_count": 88,
     "metadata": {},
     "output_type": "execute_result"
    }
   ],
   "source": [
    "payment.get_card_details()"
   ]
  },
  {
   "cell_type": "code",
   "execution_count": 90,
   "metadata": {},
   "outputs": [],
   "source": [
    "payment.set_card_details(9876543210,990)"
   ]
  },
  {
   "cell_type": "code",
   "execution_count": 91,
   "metadata": {},
   "outputs": [
    {
     "data": {
      "text/plain": [
       "(9876543210, 990)"
      ]
     },
     "execution_count": 91,
     "metadata": {},
     "output_type": "execute_result"
    }
   ],
   "source": [
    "payment.get_card_details()"
   ]
  },
  {
   "cell_type": "code",
   "execution_count": 92,
   "metadata": {},
   "outputs": [
    {
     "data": {
      "text/plain": [
       "True"
      ]
     },
     "execution_count": 92,
     "metadata": {},
     "output_type": "execute_result"
    }
   ],
   "source": [
    "payment.validate(990)"
   ]
  },
  {
   "cell_type": "code",
   "execution_count": 93,
   "metadata": {},
   "outputs": [
    {
     "data": {
      "text/plain": [
       "False"
      ]
     },
     "execution_count": 93,
     "metadata": {},
     "output_type": "execute_result"
    }
   ],
   "source": [
    "payment.validate(123)"
   ]
  },
  {
   "cell_type": "code",
   "execution_count": 94,
   "metadata": {},
   "outputs": [],
   "source": [
    "# Define an abstract base class CourseContent with methods get_details() and get_duration(). Create two subclasses VideoCourse and Ebook to implement these methods.\n"
   ]
  },
  {
   "cell_type": "code",
   "execution_count": 96,
   "metadata": {},
   "outputs": [],
   "source": [
    "from abc import ABC,abstractmethod\n",
    "\n",
    "class CourseContent(ABC):\n",
    "    \n",
    "    @abstractmethod\n",
    "    def get_details(self):\n",
    "        pass\n",
    "    \n",
    "    @abstractmethod\n",
    "    def get_duration(self):\n",
    "        pass\n",
    "    "
   ]
  },
  {
   "cell_type": "code",
   "execution_count": 98,
   "metadata": {},
   "outputs": [],
   "source": [
    "class VideoCourse(CourseContent):\n",
    "    def __init__(self,duration):\n",
    "        self.duration = duration\n",
    "    \n",
    "    def get_details(self):\n",
    "        print(\"This is VideoCourse class\")\n",
    "        \n",
    "        \n",
    "    def get_duration(self):\n",
    "        print(\"This is get duration method\")\n",
    "        print(self.duration)"
   ]
  },
  {
   "cell_type": "code",
   "execution_count": 99,
   "metadata": {},
   "outputs": [],
   "source": [
    "videocourse = VideoCourse(100)"
   ]
  },
  {
   "cell_type": "code",
   "execution_count": 100,
   "metadata": {},
   "outputs": [
    {
     "name": "stdout",
     "output_type": "stream",
     "text": [
      "This is VideoCourse class\n"
     ]
    }
   ],
   "source": [
    "videocourse.get_details()"
   ]
  },
  {
   "cell_type": "code",
   "execution_count": 101,
   "metadata": {},
   "outputs": [
    {
     "name": "stdout",
     "output_type": "stream",
     "text": [
      "This is get duration method\n",
      "100\n"
     ]
    }
   ],
   "source": [
    "videocourse.get_duration()"
   ]
  },
  {
   "cell_type": "code",
   "execution_count": 102,
   "metadata": {},
   "outputs": [],
   "source": [
    "class Ebook(CourseContent):\n",
    "    def __init__(self,duration):\n",
    "        self.duration = duration\n",
    "    \n",
    "    def get_details(self):\n",
    "        print(\"This is Ebook class\")\n",
    "        print(\"this is get_details method\")\n",
    "        \n",
    "        \n",
    "    def get_duration(self):\n",
    "        print(\"This is get duration method\")\n",
    "        print(self.duration)"
   ]
  },
  {
   "cell_type": "code",
   "execution_count": 103,
   "metadata": {},
   "outputs": [],
   "source": [
    "ebook = Ebook(200)"
   ]
  },
  {
   "cell_type": "code",
   "execution_count": 104,
   "metadata": {},
   "outputs": [
    {
     "name": "stdout",
     "output_type": "stream",
     "text": [
      "This is get duration method\n",
      "200\n"
     ]
    }
   ],
   "source": [
    "ebook.get_duration()"
   ]
  },
  {
   "cell_type": "code",
   "execution_count": 105,
   "metadata": {},
   "outputs": [
    {
     "name": "stdout",
     "output_type": "stream",
     "text": [
      "This is Ebook class\n",
      "this is get_details method\n"
     ]
    }
   ],
   "source": [
    "ebook.get_details()"
   ]
  },
  {
   "cell_type": "code",
   "execution_count": 106,
   "metadata": {},
   "outputs": [],
   "source": [
    "# Section 6: Advanced OOP Concepts\n",
    "# Magic Methods\n",
    "# Overloading Magic Methods\n",
    "# Create a class CartItem with attributes name, price, and quantity. Overload:\n",
    "# __str__ to return a string representation of the item.\n",
    "# __add__ to allow addition of two CartItem objects, combining their quantities."
   ]
  },
  {
   "cell_type": "code",
   "execution_count": 118,
   "metadata": {},
   "outputs": [],
   "source": [
    "class CartItem:\n",
    "    def __init__(self,name,price,quantity):\n",
    "        self.name = name\n",
    "        self.price = price \n",
    "        self.quantity = quantity\n",
    "        \n",
    "    def __str__(self):\n",
    "        return f\"Name is {self.name}, Price is {self.price}, Quantity is {self.quantity}\"\n",
    "        \n",
    "    def __add__(self,obj):\n",
    "        print(\"the quantity is getting added\")\n",
    "        return self.quantity + obj.quantity\n",
    "    \n",
    "        "
   ]
  },
  {
   "cell_type": "code",
   "execution_count": 119,
   "metadata": {},
   "outputs": [],
   "source": [
    "obj1 = CartItem('a',1000,50)\n"
   ]
  },
  {
   "cell_type": "code",
   "execution_count": 120,
   "metadata": {},
   "outputs": [
    {
     "name": "stdout",
     "output_type": "stream",
     "text": [
      "Name is a, Price is 1000, Quantity is 50\n"
     ]
    }
   ],
   "source": [
    "print(obj1)"
   ]
  },
  {
   "cell_type": "code",
   "execution_count": 121,
   "metadata": {},
   "outputs": [],
   "source": [
    "obj2 = CartItem('b',2000,100)"
   ]
  },
  {
   "cell_type": "code",
   "execution_count": 122,
   "metadata": {},
   "outputs": [
    {
     "name": "stdout",
     "output_type": "stream",
     "text": [
      "Name is b, Price is 2000, Quantity is 100\n"
     ]
    }
   ],
   "source": [
    "print(obj2)"
   ]
  },
  {
   "cell_type": "code",
   "execution_count": 123,
   "metadata": {},
   "outputs": [
    {
     "name": "stdout",
     "output_type": "stream",
     "text": [
      "the quantity is getting added\n"
     ]
    },
    {
     "data": {
      "text/plain": [
       "150"
      ]
     },
     "execution_count": 123,
     "metadata": {},
     "output_type": "execute_result"
    }
   ],
   "source": [
    "obj2+obj1"
   ]
  },
  {
   "cell_type": "code",
   "execution_count": 124,
   "metadata": {},
   "outputs": [],
   "source": [
    "# Using Abstract Base Classes\n",
    "# Create an abstract base class SubscriptionPlan with methods get_price() and get_duration(). Implement two subclasses MonthlyPlan and YearlyPlan with appropriate logic.\n"
   ]
  },
  {
   "cell_type": "code",
   "execution_count": 126,
   "metadata": {},
   "outputs": [],
   "source": [
    "from abc import ABC,abstractmethod\n",
    "\n",
    "class SubscriptionPlan(ABC):\n",
    "    \n",
    "    def __init__(self):\n",
    "        print(\"SubscriptionPlan class init method\")\n",
    "    \n",
    "    @abstractmethod\n",
    "    def get_price(self):\n",
    "        pass\n",
    "\n",
    "    def get_duration(self):\n",
    "        pass\n",
    "    \n",
    "    "
   ]
  },
  {
   "cell_type": "code",
   "execution_count": 133,
   "metadata": {},
   "outputs": [],
   "source": [
    "class MonthlyPlan(SubscriptionPlan):\n",
    "    def __init__(self,price,days=30):\n",
    "        super().__init__()\n",
    "        self.price = price\n",
    "        self.days = days\n",
    "        \n",
    "    def get_price(self):\n",
    "        print(f\"The price of monthly plan is {self.price}\")\n",
    "        \n",
    "    def get_duration(self):\n",
    "        print(f\"The duration is {self.days}\")\n",
    "        \n",
    "    "
   ]
  },
  {
   "cell_type": "code",
   "execution_count": 135,
   "metadata": {},
   "outputs": [
    {
     "name": "stdout",
     "output_type": "stream",
     "text": [
      "SubscriptionPlan class init method\n"
     ]
    }
   ],
   "source": [
    "monthlyplan = MonthlyPlan(2000)"
   ]
  },
  {
   "cell_type": "code",
   "execution_count": 136,
   "metadata": {},
   "outputs": [
    {
     "name": "stdout",
     "output_type": "stream",
     "text": [
      "The price of monthly plan is 2000\n"
     ]
    }
   ],
   "source": [
    "monthlyplan.get_price()"
   ]
  },
  {
   "cell_type": "code",
   "execution_count": 137,
   "metadata": {},
   "outputs": [
    {
     "name": "stdout",
     "output_type": "stream",
     "text": [
      "The duration is 30\n"
     ]
    }
   ],
   "source": [
    "monthlyplan.get_duration()"
   ]
  },
  {
   "cell_type": "code",
   "execution_count": 138,
   "metadata": {},
   "outputs": [],
   "source": [
    "class YearlyPlan(SubscriptionPlan):\n",
    "    def __init__(self,price,days=365):\n",
    "        super().__init__()\n",
    "        self.price = price\n",
    "        self.days = days\n",
    "        \n",
    "    def get_price(self):\n",
    "        print(f\"The price of yearly plan is {self.price}\")\n",
    "        \n",
    "    def get_duration(self):\n",
    "        print(f\"The duration is {self.days}\")"
   ]
  },
  {
   "cell_type": "code",
   "execution_count": 139,
   "metadata": {},
   "outputs": [
    {
     "name": "stdout",
     "output_type": "stream",
     "text": [
      "SubscriptionPlan class init method\n"
     ]
    }
   ],
   "source": [
    "yearlyplan = YearlyPlan(10000)"
   ]
  },
  {
   "cell_type": "code",
   "execution_count": 140,
   "metadata": {},
   "outputs": [
    {
     "name": "stdout",
     "output_type": "stream",
     "text": [
      "The price of yearly plan is 10000\n"
     ]
    }
   ],
   "source": [
    "yearlyplan.get_price()"
   ]
  },
  {
   "cell_type": "code",
   "execution_count": 141,
   "metadata": {},
   "outputs": [
    {
     "name": "stdout",
     "output_type": "stream",
     "text": [
      "The duration is 365\n"
     ]
    }
   ],
   "source": [
    "yearlyplan.get_duration()"
   ]
  },
  {
   "cell_type": "code",
   "execution_count": 142,
   "metadata": {},
   "outputs": [],
   "source": [
    "# Property Decorators\n",
    "# Using Property Decorators\n",
    "# Create a class Subscription with attributes _plan and _price. Use:\n",
    "# @property to access _plan and _price.\n",
    "# @setter to set _plan and update _price based on the plan."
   ]
  },
  {
   "cell_type": "code",
   "execution_count": 143,
   "metadata": {},
   "outputs": [],
   "source": [
    "class Subscription:\n",
    "    def __init__(self,plan,price):\n",
    "        self._plan = plan\n",
    "        self._price = price \n",
    "        \n",
    "    @property\n",
    "    def plan(self):\n",
    "        return self._plan\n",
    "    \n",
    "    @plan.setter\n",
    "    def plan(self,new_plan):\n",
    "        self._plan = new_plan\n",
    "        if new_plan == 'basic':\n",
    "            self._price = 10\n",
    "            \n",
    "        elif new_plan == 'standard':\n",
    "            self._price = 20\n",
    "            \n",
    "        elif new_plan == 'premiun':\n",
    "            self._price = 30\n",
    "            \n",
    "        else:\n",
    "            print(\"Invalid new plan , Please change the new plan and try again\")\n",
    "            \n",
    "    @property       \n",
    "    def price(self):\n",
    "        return self._price\n",
    "    \n",
    "\n",
    "\n",
    "        "
   ]
  },
  {
   "cell_type": "code",
   "execution_count": 144,
   "metadata": {},
   "outputs": [],
   "source": [
    "subscription = Subscription(\"basic\", 10)\n"
   ]
  },
  {
   "cell_type": "code",
   "execution_count": 145,
   "metadata": {},
   "outputs": [
    {
     "data": {
      "text/plain": [
       "'basic'"
      ]
     },
     "execution_count": 145,
     "metadata": {},
     "output_type": "execute_result"
    }
   ],
   "source": [
    "subscription.plan"
   ]
  },
  {
   "cell_type": "code",
   "execution_count": 147,
   "metadata": {},
   "outputs": [],
   "source": [
    "subscription.plan = 'standard'"
   ]
  },
  {
   "cell_type": "code",
   "execution_count": 148,
   "metadata": {},
   "outputs": [
    {
     "data": {
      "text/plain": [
       "20"
      ]
     },
     "execution_count": 148,
     "metadata": {},
     "output_type": "execute_result"
    }
   ],
   "source": [
    "subscription.price "
   ]
  },
  {
   "cell_type": "code",
   "execution_count": 149,
   "metadata": {},
   "outputs": [],
   "source": [
    "# Section 7: Iterators and Generators\n",
    "# Creating Iterators\n",
    "# Custom Iterators\n",
    "# Implement an iterator class CourseIterator that takes a list of courses and iterates over them one by one."
   ]
  },
  {
   "cell_type": "code",
   "execution_count": 160,
   "metadata": {},
   "outputs": [],
   "source": [
    "class CourseIterator:\n",
    "    def __init__(self,iterable:list):\n",
    "        self.iterable = iterable\n",
    "        \n",
    "    def create_iterator(self):\n",
    "        return iter(self.iterable) # returns iterator\n",
    "    \n",
    "    def iterate(self,iterator):\n",
    "        try:\n",
    "            while True:\n",
    "                print(next(iterator))\n",
    "        except StopIteration as s:\n",
    "            print(\"All the elements are printed\")        \n",
    "        except Exception as e:\n",
    "            print(\"An Exception occured in Courseiterator class\")\n",
    "        \n",
    "    "
   ]
  },
  {
   "cell_type": "code",
   "execution_count": 161,
   "metadata": {},
   "outputs": [],
   "source": [
    "number = CourseIterator([1,2,3,4,5,6,7,8,9])"
   ]
  },
  {
   "cell_type": "code",
   "execution_count": 162,
   "metadata": {},
   "outputs": [],
   "source": [
    "iterator = number.create_iterator()"
   ]
  },
  {
   "cell_type": "code",
   "execution_count": 163,
   "metadata": {},
   "outputs": [
    {
     "name": "stdout",
     "output_type": "stream",
     "text": [
      "1\n",
      "2\n",
      "3\n",
      "4\n",
      "5\n",
      "6\n",
      "7\n",
      "8\n",
      "9\n",
      "All the elements are printed\n"
     ]
    }
   ],
   "source": [
    "number.iterate(iterator)"
   ]
  },
  {
   "cell_type": "code",
   "execution_count": 164,
   "metadata": {},
   "outputs": [],
   "source": [
    "course = CourseIterator(['python','data science','big data','mlops','generative ai','generative ai with cloud','computer vision','deep learning and cv project ops','aws'])"
   ]
  },
  {
   "cell_type": "code",
   "execution_count": 165,
   "metadata": {},
   "outputs": [],
   "source": [
    "course_iterator = course.create_iterator()"
   ]
  },
  {
   "cell_type": "code",
   "execution_count": 166,
   "metadata": {},
   "outputs": [
    {
     "name": "stdout",
     "output_type": "stream",
     "text": [
      "python\n",
      "data science\n",
      "big data\n",
      "mlops\n",
      "generative ai\n",
      "generative ai with cloud\n",
      "computer vision\n",
      "deep learning and cv project ops\n",
      "aws\n",
      "All the elements are printed\n"
     ]
    }
   ],
   "source": [
    "course.iterate(course_iterator)"
   ]
  },
  {
   "cell_type": "code",
   "execution_count": 167,
   "metadata": {},
   "outputs": [],
   "source": [
    "# Generators and Using yield\n",
    "# Using Generators\n",
    "# Write a generator function fibonacci_sequence(n) to yield the Fibonacci sequence up to n terms. Test it using a loop."
   ]
  },
  {
   "cell_type": "code",
   "execution_count": 176,
   "metadata": {},
   "outputs": [],
   "source": [
    "def fibonacci_sequence(n):\n",
    "    a,b=0,1\n",
    "    for _ in range(n):\n",
    "        yield a \n",
    "        a, b = b , a+b"
   ]
  },
  {
   "cell_type": "code",
   "execution_count": 178,
   "metadata": {},
   "outputs": [
    {
     "name": "stdout",
     "output_type": "stream",
     "text": [
      "0\n",
      "1\n",
      "1\n",
      "2\n",
      "3\n",
      "5\n",
      "8\n",
      "13\n",
      "21\n",
      "34\n"
     ]
    }
   ],
   "source": [
    "for i in fibonacci_sequence(10):\n",
    "    print(i)"
   ]
  },
  {
   "cell_type": "code",
   "execution_count": 179,
   "metadata": {},
   "outputs": [],
   "source": [
    "# Lazy Evaluation\n",
    "# Lazy Evaluation Example\n",
    "# Implement a generator function read_large_file(file_path) to read a large file lazily, one line at a time. Use this function to count the number of lines in the file."
   ]
  },
  {
   "cell_type": "code",
   "execution_count": 1,
   "metadata": {},
   "outputs": [],
   "source": [
    "def read_large_file(file_path):\n",
    "    with open(file_path,'r') as file:\n",
    "        lines = file.readlines()\n",
    "        count = 0\n",
    "        for i in lines:\n",
    "            count +=1\n",
    "            yield i , count"
   ]
  },
  {
   "cell_type": "code",
   "execution_count": 2,
   "metadata": {},
   "outputs": [
    {
     "name": "stdout",
     "output_type": "stream",
     "text": [
      "\"hi my name is sumanth\\n\"\n",
      " *** 1\n",
      "\"hi my name is kms\\n\"\n",
      " *** 2\n",
      "\"This is python class\\n\"\n",
      " *** 3\n",
      "\"This is bigdata class\\n\"\n",
      " *** 4\n",
      "\"This is mlops class\\n\"\n",
      " *** 5\n",
      "\"This is generative ai class\\n\" *** 6\n"
     ]
    }
   ],
   "source": [
    "import time\n",
    "for i,count in read_large_file('testing.txt'):\n",
    "    time.sleep(3)\n",
    "    print(i,\"***\",count)"
   ]
  },
  {
   "cell_type": "code",
   "execution_count": 3,
   "metadata": {},
   "outputs": [
    {
     "name": "stdout",
     "output_type": "stream",
     "text": [
      "\"hi my name is sumanth\\n\"\n",
      "\n",
      "\"hi my name is kms\\n\"\n",
      "\n",
      "\"This is python class\\n\"\n",
      "\n",
      "\"This is bigdata class\\n\"\n",
      "\n",
      "\"This is mlops class\\n\"\n",
      "\n",
      "\"This is generative ai class\\n\"\n"
     ]
    }
   ],
   "source": [
    "# without using any function like read , readlines , readline using for loop it is able to read \n",
    "with open('testing.txt','r') as file:\n",
    "    for i in file:\n",
    "        print(i)\n",
    "        "
   ]
  },
  {
   "cell_type": "code",
   "execution_count": null,
   "metadata": {},
   "outputs": [],
   "source": []
  }
 ],
 "metadata": {
  "kernelspec": {
   "display_name": "base",
   "language": "python",
   "name": "python3"
  },
  "language_info": {
   "codemirror_mode": {
    "name": "ipython",
    "version": 3
   },
   "file_extension": ".py",
   "mimetype": "text/x-python",
   "name": "python",
   "nbconvert_exporter": "python",
   "pygments_lexer": "ipython3",
   "version": "3.12.4"
  }
 },
 "nbformat": 4,
 "nbformat_minor": 2
}
