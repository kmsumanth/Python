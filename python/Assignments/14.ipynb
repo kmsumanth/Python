{
 "cells": [
  {
   "cell_type": "code",
   "execution_count": 1,
   "id": "710082f8-e5b6-44f9-93bc-3e078ee4c71b",
   "metadata": {},
   "outputs": [],
   "source": [
    "#Write a program to categorize the season based on the input month (e.g., winter, summer, monsoon).\n"
   ]
  },
  {
   "cell_type": "code",
   "execution_count": 4,
   "id": "f42cd61c-8646-41d3-b352-9d6c8f66e9a7",
   "metadata": {},
   "outputs": [
    {
     "name": "stdout",
     "output_type": "stream",
     "text": [
      "Enter the month 2\n"
     ]
    },
    {
     "name": "stdout",
     "output_type": "stream",
     "text": [
      "the entered month is : 2\n",
      "winter\n"
     ]
    }
   ],
   "source": [
    "month = int(input(\"Enter the month\"))\n",
    "print(\"the entered month is :\",month)\n",
    "if month in [1,2,10,11,12]:\n",
    "    print(\"winter\")\n",
    "elif month in [3,4,5]:\n",
    "    print(\"summer\")\n",
    "else:\n",
    "    print(\"monsoon\")"
   ]
  },
  {
   "cell_type": "code",
   "execution_count": 3,
   "id": "a1e493d7-fbf5-40a7-84ac-456c79d090ec",
   "metadata": {},
   "outputs": [],
   "source": [
    "#Write a program to calculate a discount based on the purchase amount:\n",
    "# Above ₹5000: 20% discount\n",
    "# ₹3000-₹5000: 15% discount\n",
    "# ₹1000-₹3000: 10% discount\n",
    "# Below ₹1000: 5% discount"
   ]
  },
  {
   "cell_type": "code",
   "execution_count": 11,
   "id": "6e0be90c-b9d0-44cd-ac70-b76ab57f9e87",
   "metadata": {},
   "outputs": [
    {
     "name": "stdout",
     "output_type": "stream",
     "text": [
      "Enter the amount 10000\n"
     ]
    },
    {
     "name": "stdout",
     "output_type": "stream",
     "text": [
      "the entered amount is : 10000\n",
      "you have to pay :  8000.0\n"
     ]
    }
   ],
   "source": [
    "amount = int(input(\"Enter the amount\"))\n",
    "print(\"the entered amount is :\",amount)\n",
    "if amount <=1000:\n",
    "    discount = 5/100\n",
    "    discount = discount * amount\n",
    "    print(\"You have to pay\",amount-discount)\n",
    "elif amount >1000 and amount <=3000:\n",
    "    discount = 10/100\n",
    "    discount = discount * amount \n",
    "    print(\"You have to pay \",amount-discount)\n",
    "elif amount >3000 and amount <= 5000:\n",
    "    discount = 15/100\n",
    "    discount = amount * discount\n",
    "    print(\"You have to pay \",amount - discount)\n",
    "else:\n",
    "    discount = 20/100\n",
    "    discount = amount * discount \n",
    "    print(\"you have to pay : \", amount - discount)"
   ]
  },
  {
   "cell_type": "code",
   "execution_count": 12,
   "id": "ad354df4-c197-49d0-891f-e80f132fff50",
   "metadata": {},
   "outputs": [],
   "source": [
    "#Write a program to classify a number as positive, negative, or zero, and further as even or odd if it is non-zero.\n"
   ]
  },
  {
   "cell_type": "code",
   "execution_count": 18,
   "id": "5136f60a-742e-42f5-b8a5-584ac86937ed",
   "metadata": {},
   "outputs": [
    {
     "name": "stdout",
     "output_type": "stream",
     "text": [
      "Enter a number 1000\n"
     ]
    },
    {
     "name": "stdout",
     "output_type": "stream",
     "text": [
      "The entered number is  1000\n",
      "the number is positive number \n",
      "even number \n"
     ]
    }
   ],
   "source": [
    "number = int(input(\"Enter a number\"))\n",
    "print(\"The entered number is \",number)\n",
    "if number < 0 :\n",
    "    print(\"The number is negative number\")\n",
    "    if -(number) % 2 == 0:\n",
    "        print(\"even number \")\n",
    "    else:\n",
    "        print(\"odd number\")\n",
    "elif number == 0:\n",
    "    print(\"the number is zero\")\n",
    "else:\n",
    "    print(\"the number is positive number \")\n",
    "    if number % 2 == 0:\n",
    "        print(\"even number \")\n",
    "    else:\n",
    "        print(\"odd number\")"
   ]
  },
  {
   "cell_type": "code",
   "execution_count": 19,
   "id": "41272bc8-79ce-41a6-aab4-5ee290195b6c",
   "metadata": {},
   "outputs": [],
   "source": [
    "# Write a program to validate a password:\n",
    "# Minimum 8 characters\n",
    "# Contains at least one uppercase letter, one lowercase letter, one digit, and one special character."
   ]
  },
  {
   "cell_type": "code",
   "execution_count": 31,
   "id": "ebe66aca-0761-46f0-8763-9aceaecd1190",
   "metadata": {},
   "outputs": [
    {
     "name": "stdout",
     "output_type": "stream",
     "text": [
      "Enter the password ········\n"
     ]
    },
    {
     "name": "stdout",
     "output_type": "stream",
     "text": [
      "the entered password is  Sumanthsumanth@1\n",
      "Strong Password\n"
     ]
    }
   ],
   "source": [
    "import getpass\n",
    "def check_upper(password):\n",
    "    for i in password:\n",
    "        if i.isupper():\n",
    "            return True\n",
    "    else:\n",
    "        return False\n",
    "def check_lower(password):\n",
    "    for i in password:\n",
    "        if i.islower():\n",
    "            return True\n",
    "    else:\n",
    "        return False\n",
    "def check_special_char(password):\n",
    "    for x in password:\n",
    "        if x in '!@#$%^&*()_-':\n",
    "            return True\n",
    "    else:\n",
    "        return False\n",
    "def check_is_digit(password):\n",
    "    for x in password:\n",
    "        if x in '1234567890':\n",
    "            return True\n",
    "    else:\n",
    "        return False\n",
    "\n",
    "\n",
    "    \n",
    "password = getpass.getpass(\"Enter the password\")\n",
    "print(\"the entered password is \",password)\n",
    "if len(password)<=8:\n",
    "    print(\"Minimum 8 characters required\")\n",
    "else:\n",
    "    if check_upper(password):\n",
    "        if check_lower(password):\n",
    "            if check_special_char(password):\n",
    "                if check_is_digit(password):\n",
    "                    print(\"Strong Password\")\n",
    "                else:\n",
    "                    print(\"Password must contain a digit\")\n",
    "            else:\n",
    "                print(\"Password must contain a special character\")\n",
    "        else:\n",
    "            print(\"Password must contain a lower case letter\")\n",
    "    else:\n",
    "        print(\"Password must contain a upper case letter\")\n",
    "            \n",
    "        "
   ]
  },
  {
   "cell_type": "code",
   "execution_count": 32,
   "id": "03b7f131-3c45-4840-83c6-fbc95ee2953a",
   "metadata": {},
   "outputs": [],
   "source": [
    "#Write a program to determine the day of the week based on an input number (1 for Monday, 7 for Sunday).\n"
   ]
  },
  {
   "cell_type": "code",
   "execution_count": 41,
   "id": "d47e3003-a70a-46f9-a8b8-6b9b6592c4b4",
   "metadata": {},
   "outputs": [
    {
     "name": "stdout",
     "output_type": "stream",
     "text": [
      "Enter the number 1-7 1\n"
     ]
    },
    {
     "name": "stdout",
     "output_type": "stream",
     "text": [
      "The entered number is  1\n",
      "Monday\n"
     ]
    }
   ],
   "source": [
    "day = int(input(\"Enter the number 1-7\"))\n",
    "print(\"The entered number is \",day)\n",
    "if day ==1:\n",
    "    print(\"Monday\")\n",
    "elif day ==2:\n",
    "    print(\"Tuesday\")\n",
    "elif day == 3:\n",
    "    print(\"Wednesday\")\n",
    "elif day == 4:\n",
    "    print(\"Thrusday\")\n",
    "elif day == 5:\n",
    "    print(\"Friday\")\n",
    "elif day ==6:\n",
    "    print(\"Saturday\")\n",
    "elif day == 7:\n",
    "    print(\"Sunday\")\n",
    "else:\n",
    "    print(\"Invalid choice \\n Please try again\")"
   ]
  },
  {
   "cell_type": "code",
   "execution_count": 43,
   "id": "837d73ba-7d54-4dd2-a605-727abb9f523d",
   "metadata": {},
   "outputs": [],
   "source": [
    "#Write a program to implement a grading system for employees based on their performance rating.\n"
   ]
  },
  {
   "cell_type": "code",
   "execution_count": 42,
   "id": "d793e566-933c-4f9e-9c7b-f4d473c80c78",
   "metadata": {},
   "outputs": [],
   "source": [
    "#assumptions\n",
    "\n",
    "# Excellent: If the rating is greater than 4.5.\n",
    "# Very Good: If the rating is greater than 4.0 and up to 4.5 (inclusive).\n",
    "# Good: If the rating is greater than 3.0 and up to 4.0 (inclusive).\n",
    "# Satisfactory: If the rating is greater than 2.0 and up to 3.0 (inclusive).\n",
    "# Needs Improvement: If the rating is less than or equal to 2.0."
   ]
  },
  {
   "cell_type": "code",
   "execution_count": 51,
   "id": "e912306e-1224-4a0c-afa4-16b5b487f733",
   "metadata": {},
   "outputs": [
    {
     "name": "stdout",
     "output_type": "stream",
     "text": [
      "Enter the rating  12\n"
     ]
    },
    {
     "name": "stdout",
     "output_type": "stream",
     "text": [
      "the entered rating is : 12.0\n",
      "Raing must be between 0 - 5 \n",
      " Invalid input \n",
      " Please  try again\n"
     ]
    }
   ],
   "source": [
    "rating = float(input(\"Enter the rating \"))\n",
    "print(\"the entered rating is :\",rating)\n",
    "if rating <=2.0:\n",
    "    print(\"Needs Improvement\")\n",
    "elif rating > 2.0 and rating <= 3.0:\n",
    "    print(\"Satisfactory\")\n",
    "elif rating > 3.0 and rating <=4.0:\n",
    "    print(\"Good\")\n",
    "elif rating >4.0 and rating <=4.5:\n",
    "    print(\"Very Good\")\n",
    "elif rating > 4.5 and rating <=5.0:\n",
    "    print(\"Excellent\")\n",
    "else:\n",
    "    print(\"Raing must be between 0 - 5 \\n Invalid input \\n Please  try again\")\n",
    "          "
   ]
  },
  {
   "cell_type": "code",
   "execution_count": 52,
   "id": "6d7184ba-5015-4946-9cae-4d4d1eeaca7b",
   "metadata": {},
   "outputs": [],
   "source": [
    "#Write a program to check whether a given number is part of the Fibonacci sequence or not.\n"
   ]
  },
  {
   "cell_type": "code",
   "execution_count": 54,
   "id": "a0a458a2-89e3-4012-9c6c-65fec11a556c",
   "metadata": {},
   "outputs": [
    {
     "name": "stdout",
     "output_type": "stream",
     "text": [
      "Enter the number to check if the number is a part of Fibonacci sequence or not 5\n"
     ]
    },
    {
     "name": "stdout",
     "output_type": "stream",
     "text": [
      "The Entered number is : 5\n",
      "The number is a part of fibonacci sequence\n"
     ]
    }
   ],
   "source": [
    "import math\n",
    "def perfect_square(num):\n",
    "    sqrt_num = math.sqrt(num)\n",
    "    return sqrt_num * sqrt_num == num\n",
    "def is_fibonacci(num):\n",
    "    if num < 0:\n",
    "        return False\n",
    "    condition1 = 5*num*num+4\n",
    "    condition2 = 5*num*num-4\n",
    "    return perfect_square(condition1) or perfect_square(condtion2)\n",
    "\n",
    "number = int(input(\"Enter the number to check if the number is a part of Fibonacci sequence or not\"))\n",
    "print(\"The Entered number is :\",number)\n",
    "if is_fibonacci(number):\n",
    "    print(\"The number is a part of fibonacci sequence\")\n",
    "else:\n",
    "    print(\"The number is not a part of fibonacci sequence\")"
   ]
  },
  {
   "cell_type": "code",
   "execution_count": 55,
   "id": "04e737bf-ff89-4c2a-95d6-b458d7632de8",
   "metadata": {},
   "outputs": [],
   "source": [
    "#Write a program to determine the zodiac sign of a person based on their birthdate.\n"
   ]
  },
  {
   "cell_type": "code",
   "execution_count": 56,
   "id": "17f54758-b47b-41f1-86f9-7af0f2b7a098",
   "metadata": {},
   "outputs": [
    {
     "name": "stdout",
     "output_type": "stream",
     "text": [
      "Enter the day of birth (1-31):  10\n",
      "Enter the month of birth (1-12):  5\n"
     ]
    },
    {
     "name": "stdout",
     "output_type": "stream",
     "text": [
      "The entered day and month is : 10 5\n",
      "Your zodiac sign is: Taurus\n"
     ]
    }
   ],
   "source": [
    "def get_zodiac_sign(day, month):\n",
    "    if (month == 1 and day >= 20) or (month == 2 and day <= 18):\n",
    "        return \"Aquarius\"\n",
    "    elif (month == 2 and day >= 19) or (month == 3 and day <= 20):\n",
    "        return \"Pisces\"\n",
    "    elif (month == 3 and day >= 21) or (month == 4 and day <= 19):\n",
    "        return \"Aries\"\n",
    "    elif (month == 4 and day >= 20) or (month == 5 and day <= 20):\n",
    "        return \"Taurus\"\n",
    "    elif (month == 5 and day >= 21) or (month == 6 and day <= 20):\n",
    "        return \"Gemini\"\n",
    "    elif (month == 6 and day >= 21) or (month == 7 and day <= 22):\n",
    "        return \"Cancer\"\n",
    "    elif (month == 7 and day >= 23) or (month == 8 and day <= 22):\n",
    "        return \"Leo\"\n",
    "    elif (month == 8 and day >= 23) or (month == 9 and day <= 22):\n",
    "        return \"Virgo\"\n",
    "    elif (month == 9 and day >= 23) or (month == 10 and day <= 22):\n",
    "        return \"Libra\"\n",
    "    elif (month == 10 and day >= 23) or (month == 11 and day <= 21):\n",
    "        return \"Scorpio\"\n",
    "    elif (month == 11 and day >= 22) or (month == 12 and day <= 21):\n",
    "        return \"Sagittarius\"\n",
    "    elif (month == 12 and day >= 22) or (month == 1 and day <= 19):\n",
    "        return \"Capricorn\"\n",
    "    else:\n",
    "        return \"Invalid date\"\n",
    "\n",
    "day = int(input(\"Enter the day of birth (1-31): \"))\n",
    "month = int(input(\"Enter the month of birth (1-12): \"))\n",
    "print(\"The entered day and month is :\",day,month)\n",
    "\n",
    "if 1 <= month <= 12 and 1 <= day <= 31:\n",
    "    zodiac_sign = get_zodiac_sign(day, month)\n",
    "    print(f\"Your zodiac sign is: {zodiac_sign}\")\n",
    "else:\n",
    "    print(\"Invalid input Please check and Try again\")"
   ]
  },
  {
   "cell_type": "code",
   "execution_count": null,
   "id": "3af66a50-78af-43f6-ad70-174615266de1",
   "metadata": {},
   "outputs": [],
   "source": []
  },
  {
   "cell_type": "code",
   "execution_count": null,
   "id": "708bd786-c247-41f7-8fb9-c425208e3952",
   "metadata": {},
   "outputs": [],
   "source": []
  },
  {
   "cell_type": "code",
   "execution_count": null,
   "id": "83ea13a5-8b9c-4096-9022-f8ea08107a13",
   "metadata": {},
   "outputs": [],
   "source": []
  },
  {
   "cell_type": "code",
   "execution_count": null,
   "id": "09f55acf-7be5-45cb-9df7-5cd8316ded27",
   "metadata": {},
   "outputs": [],
   "source": []
  },
  {
   "cell_type": "code",
   "execution_count": null,
   "id": "17376930-74df-48ca-9e80-e2d16f813fb5",
   "metadata": {},
   "outputs": [],
   "source": []
  },
  {
   "cell_type": "code",
   "execution_count": null,
   "id": "00a5940b-9a02-4dbe-9cc8-e7f64f26f9e6",
   "metadata": {},
   "outputs": [],
   "source": []
  },
  {
   "cell_type": "code",
   "execution_count": null,
   "id": "24ea9e6d-c37a-47a8-8591-8c0582cb3a0d",
   "metadata": {},
   "outputs": [],
   "source": []
  },
  {
   "cell_type": "code",
   "execution_count": null,
   "id": "00ad34bd-5ff5-4085-8ff5-8bdff22b5475",
   "metadata": {},
   "outputs": [],
   "source": []
  },
  {
   "cell_type": "code",
   "execution_count": null,
   "id": "e5ff02c0-62d0-4de3-93ad-0d2e8e5a8b07",
   "metadata": {},
   "outputs": [],
   "source": []
  }
 ],
 "metadata": {
  "kernelspec": {
   "display_name": "Python 3 (ipykernel)",
   "language": "python",
   "name": "python3"
  },
  "language_info": {
   "codemirror_mode": {
    "name": "ipython",
    "version": 3
   },
   "file_extension": ".py",
   "mimetype": "text/x-python",
   "name": "python",
   "nbconvert_exporter": "python",
   "pygments_lexer": "ipython3",
   "version": "3.12.4"
  }
 },
 "nbformat": 4,
 "nbformat_minor": 5
}
