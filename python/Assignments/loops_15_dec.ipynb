{
 "cells": [
  {
   "cell_type": "code",
   "execution_count": 1,
   "id": "7d07c851-ebcc-4ddf-b319-c5e078cdc3d4",
   "metadata": {},
   "outputs": [],
   "source": [
    "#While Loop Assignments"
   ]
  },
  {
   "cell_type": "code",
   "execution_count": 2,
   "id": "868e47fa-dd56-4153-9c6d-e494e5e75816",
   "metadata": {},
   "outputs": [],
   "source": [
    "#Write a program to find the sum of digits of a given number using a while loop.\n"
   ]
  },
  {
   "cell_type": "code",
   "execution_count": 4,
   "id": "46cec491-ae84-4ce4-b2ed-6d1c38bb4807",
   "metadata": {},
   "outputs": [
    {
     "name": "stdin",
     "output_type": "stream",
     "text": [
      "Enter the number 111\n"
     ]
    },
    {
     "name": "stdout",
     "output_type": "stream",
     "text": [
      "The entered number is  111\n",
      "The sum of digits are  3\n"
     ]
    }
   ],
   "source": [
    "number = int(input(\"Enter the number\"))\n",
    "print(\"The entered number is \",number)\n",
    "sum = 0\n",
    "while number > 0:\n",
    "    rem = number%10\n",
    "    sum = sum + rem\n",
    "    number = number //10\n",
    "print(\"The sum of digits are \",sum)"
   ]
  },
  {
   "cell_type": "code",
   "execution_count": 5,
   "id": "46fa0bb7-ab84-48c0-9b38-cf1ee4e7e954",
   "metadata": {},
   "outputs": [],
   "source": [
    "#Create a program that uses a while loop to reverse a number.\n"
   ]
  },
  {
   "cell_type": "code",
   "execution_count": 8,
   "id": "9e43395e-9120-473c-8a7d-19e0c1bb8e86",
   "metadata": {},
   "outputs": [
    {
     "name": "stdin",
     "output_type": "stream",
     "text": [
      "Enter the number 25\n"
     ]
    },
    {
     "name": "stdout",
     "output_type": "stream",
     "text": [
      "The entered number is  25\n",
      "The reversed number is : 52\n"
     ]
    }
   ],
   "source": [
    "number = int(input(\"Enter the number\"))\n",
    "print(\"The entered number is \",number)\n",
    "rev = 0\n",
    "while number > 0:\n",
    "    rem = number % 10\n",
    "    rev = rev*10+rem\n",
    "    number = number //10\n",
    "print(\"The reversed number is :\",rev)"
   ]
  },
  {
   "cell_type": "code",
   "execution_count": 9,
   "id": "047a306e-06fe-4a00-afe6-1cece47a8e8a",
   "metadata": {},
   "outputs": [],
   "source": [
    "#Write a while loop program to find the largest digit in a number.\n"
   ]
  },
  {
   "cell_type": "code",
   "execution_count": 1,
   "id": "452da111-1a16-435c-991c-8790ed9d597d",
   "metadata": {},
   "outputs": [
    {
     "name": "stdin",
     "output_type": "stream",
     "text": [
      "Enter the number 941\n"
     ]
    },
    {
     "name": "stdout",
     "output_type": "stream",
     "text": [
      "The entered number is  941\n",
      "The largest digit is  9\n"
     ]
    }
   ],
   "source": [
    "number = int(input(\"Enter the number\"))\n",
    "print(\"The entered number is \",number)\n",
    "max = 0\n",
    "while number > 0:\n",
    "    rem = number % 10\n",
    "    if rem > max:\n",
    "        max = rem\n",
    "    number = number//10\n",
    "print(\"The largest digit is \",max)"
   ]
  },
  {
   "cell_type": "code",
   "execution_count": 2,
   "id": "d755b0a5-3ce2-4d19-80ed-53588c6057ba",
   "metadata": {},
   "outputs": [],
   "source": [
    "#Use a while loop to print all even numbers from 1 to n.\n"
   ]
  },
  {
   "cell_type": "code",
   "execution_count": 4,
   "id": "f1a7898c-f607-4429-9e5b-4ef62684adf2",
   "metadata": {},
   "outputs": [
    {
     "name": "stdin",
     "output_type": "stream",
     "text": [
      "Enter a number 10\n"
     ]
    },
    {
     "name": "stdout",
     "output_type": "stream",
     "text": [
      "The entered number is  10\n",
      "0\n",
      "2\n",
      "4\n",
      "6\n",
      "8\n",
      "10\n"
     ]
    }
   ],
   "source": [
    "n = int(input(\"Enter a number\"))\n",
    "print(\"The entered number is \",n)\n",
    "i = 0\n",
    "while i<=n:\n",
    "    if i%2==0:\n",
    "        print(i)\n",
    "    i=i+1"
   ]
  },
  {
   "cell_type": "code",
   "execution_count": 5,
   "id": "9d6468d3-ca8e-43e8-9609-dacc737ab6d2",
   "metadata": {},
   "outputs": [],
   "source": [
    "#Write a program using a while loop to repeatedly prompt a user to guess a randomly generated number until they guess correctly.\n"
   ]
  },
  {
   "cell_type": "code",
   "execution_count": 8,
   "id": "7be3d5a6-ef62-4b3c-bebf-081acc7cfd8d",
   "metadata": {},
   "outputs": [
    {
     "name": "stdin",
     "output_type": "stream",
     "text": [
      "Enter a number between 0 - 10 1\n"
     ]
    },
    {
     "name": "stdout",
     "output_type": "stream",
     "text": [
      "The entered number is  1\n",
      "Try again\n"
     ]
    },
    {
     "name": "stdin",
     "output_type": "stream",
     "text": [
      "Enter a number between 0 - 10 2\n"
     ]
    },
    {
     "name": "stdout",
     "output_type": "stream",
     "text": [
      "The entered number is  2\n",
      "Try again\n"
     ]
    },
    {
     "name": "stdin",
     "output_type": "stream",
     "text": [
      "Enter a number between 0 - 10 3\n"
     ]
    },
    {
     "name": "stdout",
     "output_type": "stream",
     "text": [
      "The entered number is  3\n",
      "Try again\n"
     ]
    },
    {
     "name": "stdin",
     "output_type": "stream",
     "text": [
      "Enter a number between 0 - 10 4\n"
     ]
    },
    {
     "name": "stdout",
     "output_type": "stream",
     "text": [
      "The entered number is  4\n",
      "Try again\n"
     ]
    },
    {
     "name": "stdin",
     "output_type": "stream",
     "text": [
      "Enter a number between 0 - 10 5\n"
     ]
    },
    {
     "name": "stdout",
     "output_type": "stream",
     "text": [
      "The entered number is  5\n",
      "Try again\n"
     ]
    },
    {
     "name": "stdin",
     "output_type": "stream",
     "text": [
      "Enter a number between 0 - 10 6\n"
     ]
    },
    {
     "name": "stdout",
     "output_type": "stream",
     "text": [
      "The entered number is  6\n"
     ]
    }
   ],
   "source": [
    "import random \n",
    "number = random.randint(1,10)\n",
    "while True:\n",
    "    user = int(input(\"Enter a number between 0 - 10\"))\n",
    "    print(\"The entered number is \",user)\n",
    "    if user == number:\n",
    "        break\n",
    "    print(\"Try again\")"
   ]
  },
  {
   "cell_type": "code",
   "execution_count": 9,
   "id": "07c2cb6b-acae-4e35-9439-010fdb0d3fb8",
   "metadata": {},
   "outputs": [],
   "source": [
    "#Write a program using a while loop to calculate the sum of the first n natural numbers.\n"
   ]
  },
  {
   "cell_type": "code",
   "execution_count": 11,
   "id": "7f52a066-a411-4e9d-b101-a78d7f7c9a7a",
   "metadata": {},
   "outputs": [
    {
     "name": "stdin",
     "output_type": "stream",
     "text": [
      "Enter the number 5\n"
     ]
    },
    {
     "name": "stdout",
     "output_type": "stream",
     "text": [
      "The entered number is  5\n",
      "The sum is  15\n"
     ]
    }
   ],
   "source": [
    "n = int(input(\"Enter the number\"))\n",
    "print(\"The entered number is \",n)\n",
    "i=1\n",
    "sum = 0\n",
    "while i<=n:\n",
    "    sum = sum+i\n",
    "    i=i+1\n",
    "print(\"The sum is \",sum)"
   ]
  },
  {
   "cell_type": "code",
   "execution_count": 12,
   "id": "6367b2b6-fdd9-4285-a92d-8728a9690a65",
   "metadata": {},
   "outputs": [],
   "source": [
    "#Create a while loop to continuously prompt the user for input until they type \"exit\".\n"
   ]
  },
  {
   "cell_type": "code",
   "execution_count": 2,
   "id": "d31115df-bb87-4b79-8d0d-f468346b9f05",
   "metadata": {},
   "outputs": [
    {
     "name": "stdin",
     "output_type": "stream",
     "text": [
      "Enter 'exit' to exit this loop hi\n"
     ]
    },
    {
     "name": "stdout",
     "output_type": "stream",
     "text": [
      "Try again\n"
     ]
    },
    {
     "name": "stdin",
     "output_type": "stream",
     "text": [
      "Enter 'exit' to exit this loop my name is sumanth\n"
     ]
    },
    {
     "name": "stdout",
     "output_type": "stream",
     "text": [
      "Try again\n"
     ]
    },
    {
     "name": "stdin",
     "output_type": "stream",
     "text": [
      "Enter 'exit' to exit this loop how are you\n"
     ]
    },
    {
     "name": "stdout",
     "output_type": "stream",
     "text": [
      "Try again\n"
     ]
    },
    {
     "name": "stdin",
     "output_type": "stream",
     "text": [
      "Enter 'exit' to exit this loop exit\n"
     ]
    },
    {
     "name": "stdout",
     "output_type": "stream",
     "text": [
      "Bye\n"
     ]
    }
   ],
   "source": [
    "while True:\n",
    "    text = input(\"Enter 'exit' to exit this loop\")\n",
    "    if text.lower() == 'exit':\n",
    "        print('Bye')\n",
    "        break\n",
    "    else:\n",
    "        print(\"Try again\")"
   ]
  },
  {
   "cell_type": "code",
   "execution_count": 3,
   "id": "b15337dd-5022-4198-80df-0da5c2623ef7",
   "metadata": {},
   "outputs": [],
   "source": [
    "#Write a program using a while loop to check if a number is an Armstrong number.\n"
   ]
  },
  {
   "cell_type": "code",
   "execution_count": 7,
   "id": "9b836432-b84b-42b7-8961-87c2f9e52059",
   "metadata": {},
   "outputs": [
    {
     "name": "stdin",
     "output_type": "stream",
     "text": [
      "Enter the number 153\n"
     ]
    },
    {
     "name": "stdout",
     "output_type": "stream",
     "text": [
      "The entered number is  153\n",
      "153\n"
     ]
    }
   ],
   "source": [
    "number = int(input(\"Enter the number\"))\n",
    "print(\"The entered number is \",number)\n",
    "p = len((str(number)))\n",
    "result = 0\n",
    "while number>0:\n",
    "    rem = number%10\n",
    "    result = result+rem**p\n",
    "    number = number //10\n",
    "print(result)"
   ]
  },
  {
   "cell_type": "code",
   "execution_count": 8,
   "id": "ea385024-2809-46a8-b7a2-85f0fe67148d",
   "metadata": {},
   "outputs": [],
   "source": [
    "#Create a countdown timer using a while loop, starting from a given number and ending at zero.\n"
   ]
  },
  {
   "cell_type": "code",
   "execution_count": 11,
   "id": "1f163643-3b36-4a27-84f7-6a4ade0ea0f5",
   "metadata": {},
   "outputs": [
    {
     "name": "stdin",
     "output_type": "stream",
     "text": [
      "Enter the number 10\n"
     ]
    },
    {
     "name": "stdout",
     "output_type": "stream",
     "text": [
      "The entered number is  10\n",
      "10\n",
      "9\n",
      "8\n",
      "7\n",
      "6\n",
      "5\n",
      "4\n",
      "3\n",
      "2\n",
      "1\n"
     ]
    }
   ],
   "source": [
    "import time\n",
    "n = int(input(\"Enter the number\"))\n",
    "print(\"The entered number is \",n)\n",
    "while n!=0:\n",
    "    print(n)\n",
    "    time.sleep(1)\n",
    "    n = n-1"
   ]
  },
  {
   "cell_type": "code",
   "execution_count": 12,
   "id": "0923aced-7a49-4212-961e-a1366b4e79de",
   "metadata": {},
   "outputs": [],
   "source": [
    "#Write a program using a while loop to find the LCM (Least Common Multiple) of two numbers.\n"
   ]
  },
  {
   "cell_type": "code",
   "execution_count": 13,
   "id": "f6897765-e933-483b-af56-4442a2d69680",
   "metadata": {},
   "outputs": [
    {
     "name": "stdin",
     "output_type": "stream",
     "text": [
      "Enter the first number 10\n",
      "Enter the second number 20\n"
     ]
    },
    {
     "name": "stdout",
     "output_type": "stream",
     "text": [
      "The entered numbers are  10 20\n",
      "The lcm is  20.0\n"
     ]
    }
   ],
   "source": [
    "a=int(input(\"Enter the first number\"))\n",
    "b = int(input(\"Enter the second number\"))\n",
    "print(\"The entered numbers are \",a,b)\n",
    "x,y=a,b\n",
    "while a!=b:\n",
    "    if a>b:\n",
    "        a = a-b\n",
    "    else:\n",
    "        b=b-a\n",
    "gcd = a\n",
    "lcm = (x*y)/gcd\n",
    "print(\"The lcm is \",lcm)"
   ]
  },
  {
   "cell_type": "code",
   "execution_count": 14,
   "id": "177860df-8872-4db3-b6be-eaa063ed4188",
   "metadata": {},
   "outputs": [],
   "source": [
    "#For Loop Assignments\n"
   ]
  },
  {
   "cell_type": "code",
   "execution_count": 15,
   "id": "b36dea64-b7f5-4306-92e2-8d632cae0c30",
   "metadata": {},
   "outputs": [],
   "source": [
    "#Write a program using a for loop to print the multiplication table of a given number.\n"
   ]
  },
  {
   "cell_type": "code",
   "execution_count": 18,
   "id": "9f56b687-507e-4d6b-bdd6-e84380eac4e1",
   "metadata": {},
   "outputs": [
    {
     "name": "stdin",
     "output_type": "stream",
     "text": [
      "Enter the number 5\n"
     ]
    },
    {
     "name": "stdout",
     "output_type": "stream",
     "text": [
      "5 x 1 = 5\n",
      "5 x 2 = 10\n",
      "5 x 3 = 15\n",
      "5 x 4 = 20\n",
      "5 x 5 = 25\n",
      "5 x 6 = 30\n",
      "5 x 7 = 35\n",
      "5 x 8 = 40\n",
      "5 x 9 = 45\n",
      "5 x 10 = 50\n"
     ]
    }
   ],
   "source": [
    "number = int(input(\"Enter the number\"))\n",
    "i=1\n",
    "for i in range(1,11):\n",
    "    print(f\"{number} x {i} = {number*i}\")"
   ]
  },
  {
   "cell_type": "code",
   "execution_count": 19,
   "id": "9b34b14c-3cd0-459c-bc26-d8c2940a0a61",
   "metadata": {},
   "outputs": [],
   "source": [
    "#Create a program using a for loop to print all numbers divisible by 3 and 5 between 1 and n.\n"
   ]
  },
  {
   "cell_type": "code",
   "execution_count": 20,
   "id": "2d5b6d15-4002-40b3-a38f-7a5eef164b51",
   "metadata": {},
   "outputs": [
    {
     "name": "stdin",
     "output_type": "stream",
     "text": [
      "Enter the number 10\n"
     ]
    },
    {
     "name": "stdout",
     "output_type": "stream",
     "text": [
      "The entered number is  10\n",
      "3 is divisible by 3\n",
      "5 is divisible by 5\n",
      "6 is divisible by 3\n",
      "9 is divisible by 3\n",
      "10 is divisible by 5\n"
     ]
    }
   ],
   "source": [
    "n = int(input(\"Enter the number\"))\n",
    "print(\"The entered number is \",n)\n",
    "for i in range(1,n+1):\n",
    "    if i%3==0:\n",
    "        print(f\"{i} is divisible by 3\")\n",
    "    if i%5==0:\n",
    "        print(f\"{i} is divisible by 5\")\n",
    "        "
   ]
  },
  {
   "cell_type": "code",
   "execution_count": 22,
   "id": "1182ef78-b7fb-4e69-a319-62e7cf3e0cad",
   "metadata": {},
   "outputs": [],
   "source": [
    "\n",
    "#Write a for loop to calculate the sum of squares of the first n natural numbers.\n"
   ]
  },
  {
   "cell_type": "code",
   "execution_count": 23,
   "id": "54722c74-51f3-433d-9481-2f2559b93596",
   "metadata": {},
   "outputs": [
    {
     "name": "stdin",
     "output_type": "stream",
     "text": [
      "Enter the number 10\n"
     ]
    },
    {
     "name": "stdout",
     "output_type": "stream",
     "text": [
      "The entered number is  10\n",
      "385\n"
     ]
    }
   ],
   "source": [
    "n = int(input(\"Enter the number\"))\n",
    "print(\"The entered number is \",n)\n",
    "sum = 0\n",
    "for i in range(1,n+1):\n",
    "    sum = sum + i**2\n",
    "print(sum)"
   ]
  },
  {
   "cell_type": "code",
   "execution_count": 24,
   "id": "d6700ed9-fff8-4602-87e9-76d445fb62f4",
   "metadata": {},
   "outputs": [],
   "source": [
    "#Create a program using a for loop to find all prime numbers between 1 and n.\n"
   ]
  },
  {
   "cell_type": "code",
   "execution_count": 4,
   "id": "4e7b69c9-5373-48c7-bfc4-1d4ea29e5492",
   "metadata": {},
   "outputs": [
    {
     "name": "stdin",
     "output_type": "stream",
     "text": [
      "Enter the number 30\n"
     ]
    },
    {
     "name": "stdout",
     "output_type": "stream",
     "text": [
      "The entered number is  30\n",
      "1\n",
      "2\n",
      "3\n",
      "5\n",
      "7\n",
      "11\n",
      "13\n",
      "17\n",
      "19\n",
      "23\n",
      "29\n"
     ]
    }
   ],
   "source": [
    "n = int(input(\"Enter the number\"))\n",
    "print(\"The entered number is \",n)\n",
    "for i in range(1,n+1):\n",
    "    for j in range(2,i):\n",
    "        if i%j==0:\n",
    "            break\n",
    "    else:\n",
    "        print(i)\n",
    "            "
   ]
  },
  {
   "cell_type": "code",
   "execution_count": 5,
   "id": "2b2ea270-a9cf-48db-bae1-599d149ddcb8",
   "metadata": {},
   "outputs": [],
   "source": [
    "#Write a program to find the second largest number in a list using a for loop.\n"
   ]
  },
  {
   "cell_type": "code",
   "execution_count": 12,
   "id": "fa916df1-5721-47e3-b22d-4e444ef4e361",
   "metadata": {},
   "outputs": [
    {
     "name": "stdout",
     "output_type": "stream",
     "text": [
      "The list is  [1, 2, 3, 4, 5, 6, 7, 8, 9]\n",
      "The first largest element is  9\n",
      "The second largest element is  8\n"
     ]
    }
   ],
   "source": [
    "l = [1,2,3,4,5,6,7,8,9]\n",
    "print(\"The list is \",l)\n",
    "max1 = 0\n",
    "max2 = 0\n",
    "for x in l:\n",
    "    if x > max1:\n",
    "        max1 = x\n",
    "for x in l:\n",
    "    if x > max2 and x < max1:\n",
    "        max2 = x\n",
    "print(\"The first largest element is \",max1)\n",
    "print(\"The second largest element is \",max2)"
   ]
  },
  {
   "cell_type": "code",
   "execution_count": 13,
   "id": "8e2f6028-e6c4-4156-a7f4-cbb88300819a",
   "metadata": {},
   "outputs": [],
   "source": [
    "#Create a program using nested for loops to print a right-angled triangle pattern of stars.\n"
   ]
  },
  {
   "cell_type": "code",
   "execution_count": 25,
   "id": "34b7dc9b-8c0f-44e3-9ec3-d0727f78da6f",
   "metadata": {},
   "outputs": [
    {
     "name": "stdin",
     "output_type": "stream",
     "text": [
      "Enter a number 10\n"
     ]
    },
    {
     "name": "stdout",
     "output_type": "stream",
     "text": [
      "The entered number is  10\n",
      "*\n",
      "**\n",
      "***\n",
      "****\n",
      "*****\n",
      "******\n",
      "*******\n",
      "********\n",
      "*********\n",
      "**********\n"
     ]
    }
   ],
   "source": [
    "n = int(input(\"Enter a number\"))\n",
    "print(\"The entered number is \",n)\n",
    "for i in range(1,n+1):\n",
    "    print(\"*\"*i)"
   ]
  },
  {
   "cell_type": "code",
   "execution_count": 15,
   "id": "4c3d159d-8cdb-4d83-ba8e-01509ecec849",
   "metadata": {},
   "outputs": [],
   "source": [
    "#Write a program to count how many numbers in a list are greater than a given threshold using a for loop.\n"
   ]
  },
  {
   "cell_type": "code",
   "execution_count": 17,
   "id": "b5ad435f-1fce-46a3-a541-06095e783688",
   "metadata": {},
   "outputs": [
    {
     "name": "stdout",
     "output_type": "stream",
     "text": [
      "The count of items greater than 5 is 5\n"
     ]
    }
   ],
   "source": [
    "l = [1,2,4,5,6,7,8,9,10]\n",
    "thres = 5\n",
    "count = 0\n",
    "for x in l:\n",
    "    if x > thres:\n",
    "        count = count+1\n",
    "print(f\"The count of items greater than {thres} is {count}\")\n",
    "    "
   ]
  },
  {
   "cell_type": "code",
   "execution_count": 18,
   "id": "31dd92aa-a3a0-4501-9999-6813db942b2b",
   "metadata": {},
   "outputs": [],
   "source": [
    "#Create a program using a for loop to print the reverse of a list.\n"
   ]
  },
  {
   "cell_type": "code",
   "execution_count": 22,
   "id": "2d81caad-9e47-422b-90f3-6756ded459ff",
   "metadata": {},
   "outputs": [
    {
     "name": "stdout",
     "output_type": "stream",
     "text": [
      "1000\n",
      "900\n",
      "800\n",
      "700\n",
      "600\n",
      "500\n",
      "400\n",
      "300\n",
      "200\n",
      "100\n"
     ]
    }
   ],
   "source": [
    "l = [100,200,300,400,500,600,700,800,900,1000]\n",
    "for i in range(len(l)-1,0-1,-1):\n",
    "    print(l[i])"
   ]
  },
  {
   "cell_type": "code",
   "execution_count": 23,
   "id": "8c8cda19-1c84-4ac6-b093-7c6d1ecaf106",
   "metadata": {},
   "outputs": [],
   "source": [
    "#Write a program using a for loop to find the sum of all odd numbers in a list.\n"
   ]
  },
  {
   "cell_type": "code",
   "execution_count": 24,
   "id": "2697f111-db79-4eee-801f-0eddfac8a0cb",
   "metadata": {},
   "outputs": [
    {
     "name": "stdout",
     "output_type": "stream",
     "text": [
      "The list is  [1, 2, 3, 4, 5, 6, 7, 8, 9, 0]\n",
      "The sum of all odd numbers are  25\n"
     ]
    }
   ],
   "source": [
    "l = [1,2,3,4,5,6,7,8,9,0]\n",
    "print(\"The list is \",l)\n",
    "sum = 0\n",
    "for x in l:\n",
    "    if x%2!=0:\n",
    "        sum = sum+x\n",
    "print(\"The sum of all odd numbers are \",sum)"
   ]
  },
  {
   "cell_type": "code",
   "execution_count": null,
   "id": "ae2775e6-07f1-4b34-b76f-822ef27762d9",
   "metadata": {},
   "outputs": [],
   "source": []
  }
 ],
 "metadata": {
  "kernelspec": {
   "display_name": "Python 3 (ipykernel)",
   "language": "python",
   "name": "python3"
  },
  "language_info": {
   "codemirror_mode": {
    "name": "ipython",
    "version": 3
   },
   "file_extension": ".py",
   "mimetype": "text/x-python",
   "name": "python",
   "nbconvert_exporter": "python",
   "pygments_lexer": "ipython3",
   "version": "3.12.4"
  }
 },
 "nbformat": 4,
 "nbformat_minor": 5
}
