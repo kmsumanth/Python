{
 "cells": [
  {
   "cell_type": "code",
   "execution_count": 1,
   "metadata": {},
   "outputs": [
    {
     "name": "stdout",
     "output_type": "stream",
     "text": [
      "kernel working \n"
     ]
    }
   ],
   "source": [
    "print(\"kernel working \")"
   ]
  },
  {
   "cell_type": "code",
   "execution_count": 2,
   "metadata": {},
   "outputs": [],
   "source": [
    "# oops concepts"
   ]
  },
  {
   "cell_type": "code",
   "execution_count": 7,
   "metadata": {},
   "outputs": [
    {
     "ename": "SyntaxError",
     "evalue": "incomplete input (229741896.py, line 1)",
     "output_type": "error",
     "traceback": [
      "\u001b[1;36m  Cell \u001b[1;32mIn [7], line 1\u001b[1;36m\u001b[0m\n\u001b[1;33m    class sumanth:\u001b[0m\n\u001b[1;37m                  ^\u001b[0m\n\u001b[1;31mSyntaxError\u001b[0m\u001b[1;31m:\u001b[0m incomplete input\n"
     ]
    }
   ],
   "source": [
    "class sumanth:"
   ]
  },
  {
   "cell_type": "code",
   "execution_count": 8,
   "metadata": {},
   "outputs": [],
   "source": [
    "class sumanth:\n",
    "    pass"
   ]
  },
  {
   "cell_type": "code",
   "execution_count": 9,
   "metadata": {},
   "outputs": [],
   "source": [
    "class euron:\n",
    "    def __init__(self,course_name,course_mentor,course_price):\n",
    "        self.course_name = course_name\n",
    "        self.course_mentor = course_mentor\n",
    "        self.course_price = course_price\n",
    "        \n",
    "        "
   ]
  },
  {
   "cell_type": "code",
   "execution_count": 10,
   "metadata": {},
   "outputs": [],
   "source": [
    "e1 = euron('python','sumanth',2000)\n"
   ]
  },
  {
   "cell_type": "code",
   "execution_count": 11,
   "metadata": {},
   "outputs": [
    {
     "data": {
      "text/plain": [
       "2000"
      ]
     },
     "execution_count": 11,
     "metadata": {},
     "output_type": "execute_result"
    }
   ],
   "source": [
    "e1.course_price"
   ]
  },
  {
   "cell_type": "code",
   "execution_count": 12,
   "metadata": {},
   "outputs": [
    {
     "data": {
      "text/plain": [
       "'sumanth'"
      ]
     },
     "execution_count": 12,
     "metadata": {},
     "output_type": "execute_result"
    }
   ],
   "source": [
    "e1.course_mentor"
   ]
  },
  {
   "cell_type": "code",
   "execution_count": 13,
   "metadata": {},
   "outputs": [
    {
     "data": {
      "text/plain": [
       "'python'"
      ]
     },
     "execution_count": 13,
     "metadata": {},
     "output_type": "execute_result"
    }
   ],
   "source": [
    "e1.course_name"
   ]
  },
  {
   "cell_type": "code",
   "execution_count": 14,
   "metadata": {},
   "outputs": [],
   "source": [
    "# constructor provide data for classes "
   ]
  },
  {
   "cell_type": "code",
   "execution_count": 15,
   "metadata": {},
   "outputs": [],
   "source": [
    "# self is the reference to the object ie the data is attached to the particular object "
   ]
  },
  {
   "cell_type": "code",
   "execution_count": 16,
   "metadata": {},
   "outputs": [
    {
     "data": {
      "text/plain": [
       "__main__.euron"
      ]
     },
     "execution_count": 16,
     "metadata": {},
     "output_type": "execute_result"
    }
   ],
   "source": [
    "type(e1)"
   ]
  },
  {
   "cell_type": "code",
   "execution_count": 17,
   "metadata": {},
   "outputs": [],
   "source": [
    "# any number of objects can be created "
   ]
  },
  {
   "cell_type": "code",
   "execution_count": 18,
   "metadata": {},
   "outputs": [],
   "source": [
    "e2 = euron('data_analysis','kms','4000')"
   ]
  },
  {
   "cell_type": "code",
   "execution_count": 19,
   "metadata": {},
   "outputs": [
    {
     "data": {
      "text/plain": [
       "'kms'"
      ]
     },
     "execution_count": 19,
     "metadata": {},
     "output_type": "execute_result"
    }
   ],
   "source": [
    "e2.course_mentor"
   ]
  },
  {
   "cell_type": "code",
   "execution_count": 20,
   "metadata": {},
   "outputs": [
    {
     "data": {
      "text/plain": [
       "'data_analysis'"
      ]
     },
     "execution_count": 20,
     "metadata": {},
     "output_type": "execute_result"
    }
   ],
   "source": [
    "e2.course_name\n"
   ]
  },
  {
   "cell_type": "code",
   "execution_count": 21,
   "metadata": {},
   "outputs": [
    {
     "data": {
      "text/plain": [
       "'4000'"
      ]
     },
     "execution_count": 21,
     "metadata": {},
     "output_type": "execute_result"
    }
   ],
   "source": [
    "e2.course_price"
   ]
  },
  {
   "cell_type": "code",
   "execution_count": 24,
   "metadata": {},
   "outputs": [],
   "source": [
    "class euron1:\n",
    "    def __init__(self,course_name,course_mentor,course_price):\n",
    "        self.course_name = course_name\n",
    "        self.course_mentor = course_mentor\n",
    "        self.course_price = course_price\n",
    "        \n",
    "    def display_course(self):\n",
    "        print(f\"course name {self.course_name} course_mentor {self.course_mentor} course price {self.course_price}\")\n",
    "\n",
    "    def upadate_price(self,new_price):\n",
    "        self.course_price = new_price\n",
    "        print(f\"course price updated {self.course_price}\")\n",
    "    \n",
    "    def enroll_student(self,student_name):\n",
    "        print(f\"{student_name} has enrolled in {self.course_name}\")\n"
   ]
  },
  {
   "cell_type": "code",
   "execution_count": 25,
   "metadata": {},
   "outputs": [],
   "source": [
    "pro_course1 = euron1('python','sumanth',2000)\n"
   ]
  },
  {
   "cell_type": "code",
   "execution_count": 26,
   "metadata": {},
   "outputs": [],
   "source": [
    "pro_course2 = euron1(\"java\",'kms','5000')"
   ]
  },
  {
   "cell_type": "code",
   "execution_count": 27,
   "metadata": {},
   "outputs": [],
   "source": [
    "pro_course3 = euron1('big data','sumanth',5000)"
   ]
  },
  {
   "cell_type": "code",
   "execution_count": 30,
   "metadata": {},
   "outputs": [],
   "source": [
    "# private variable "
   ]
  },
  {
   "cell_type": "code",
   "execution_count": 31,
   "metadata": {},
   "outputs": [],
   "source": [
    "class euron1:\n",
    "    def __init__(self,course_name,course_mentor,course_price):\n",
    "        self.course_name = course_name\n",
    "        self.course_mentor = course_mentor\n",
    "        self.__course_price = course_price\n",
    "        \n",
    "    def display_course(self):\n",
    "        print(f\"course name {self.course_name} course_mentor {self.course_mentor} course price {self.course_price}\")\n",
    "\n",
    "    def upadate_price(self,new_price):\n",
    "        self.course_price = new_price\n",
    "        print(f\"course price updated {self.course_price}\")\n",
    "    \n",
    "    def enroll_student(self,student_name):\n",
    "        print(f\"{student_name} has enrolled in {self.course_name}\")\n"
   ]
  },
  {
   "cell_type": "code",
   "execution_count": 32,
   "metadata": {},
   "outputs": [],
   "source": [
    "e1 = euron1('python','sumanth',2000)"
   ]
  },
  {
   "cell_type": "code",
   "execution_count": 33,
   "metadata": {},
   "outputs": [
    {
     "data": {
      "text/plain": [
       "'sumanth'"
      ]
     },
     "execution_count": 33,
     "metadata": {},
     "output_type": "execute_result"
    }
   ],
   "source": [
    "e1.course_mentor"
   ]
  },
  {
   "cell_type": "code",
   "execution_count": 34,
   "metadata": {},
   "outputs": [
    {
     "data": {
      "text/plain": [
       "'python'"
      ]
     },
     "execution_count": 34,
     "metadata": {},
     "output_type": "execute_result"
    }
   ],
   "source": [
    "e1.course_name"
   ]
  },
  {
   "cell_type": "code",
   "execution_count": 36,
   "metadata": {},
   "outputs": [
    {
     "ename": "AttributeError",
     "evalue": "'euron1' object has no attribute '__course_price'",
     "output_type": "error",
     "traceback": [
      "\u001b[1;31m---------------------------------------------------------------------------\u001b[0m",
      "\u001b[1;31mAttributeError\u001b[0m                            Traceback (most recent call last)",
      "Cell \u001b[1;32mIn [36], line 1\u001b[0m\n\u001b[1;32m----> 1\u001b[0m \u001b[43me1\u001b[49m\u001b[38;5;241;43m.\u001b[39;49m\u001b[43m__course_price\u001b[49m\n",
      "\u001b[1;31mAttributeError\u001b[0m: 'euron1' object has no attribute '__course_price'"
     ]
    }
   ],
   "source": [
    "e1.__course_price"
   ]
  },
  {
   "cell_type": "code",
   "execution_count": 37,
   "metadata": {},
   "outputs": [
    {
     "data": {
      "text/plain": [
       "['__class__',\n",
       " '__delattr__',\n",
       " '__dict__',\n",
       " '__dir__',\n",
       " '__doc__',\n",
       " '__eq__',\n",
       " '__format__',\n",
       " '__ge__',\n",
       " '__getattribute__',\n",
       " '__gt__',\n",
       " '__hash__',\n",
       " '__init__',\n",
       " '__init_subclass__',\n",
       " '__le__',\n",
       " '__lt__',\n",
       " '__module__',\n",
       " '__ne__',\n",
       " '__new__',\n",
       " '__reduce__',\n",
       " '__reduce_ex__',\n",
       " '__repr__',\n",
       " '__setattr__',\n",
       " '__sizeof__',\n",
       " '__str__',\n",
       " '__subclasshook__',\n",
       " '__weakref__',\n",
       " '_euron1__course_price',\n",
       " 'course_mentor',\n",
       " 'course_name',\n",
       " 'display_course',\n",
       " 'enroll_student',\n",
       " 'upadate_price']"
      ]
     },
     "execution_count": 37,
     "metadata": {},
     "output_type": "execute_result"
    }
   ],
   "source": [
    "dir(e1)"
   ]
  },
  {
   "cell_type": "code",
   "execution_count": 38,
   "metadata": {},
   "outputs": [],
   "source": [
    "# name mangling "
   ]
  },
  {
   "cell_type": "code",
   "execution_count": 40,
   "metadata": {},
   "outputs": [
    {
     "data": {
      "text/plain": [
       "2000"
      ]
     },
     "execution_count": 40,
     "metadata": {},
     "output_type": "execute_result"
    }
   ],
   "source": [
    "e1._euron1__course_price  # object name ,class name , variable name "
   ]
  },
  {
   "cell_type": "code",
   "execution_count": 42,
   "metadata": {},
   "outputs": [],
   "source": [
    "# when class name is not known ## use the method inside the class and return that variable name "
   ]
  },
  {
   "cell_type": "code",
   "execution_count": 1,
   "metadata": {},
   "outputs": [],
   "source": [
    "class euron_course:\n",
    "    def __init__(self,course_name , course_mentor,course_price):\n",
    "        self.course_name = course_name\n",
    "        self.course_mentor = course_mentor\n",
    "        self.__course_price = course_price\n",
    "        \n",
    "    def display_course(self):\n",
    "        print(f\"Course Name: {self.course_name}, Course Mentor: {self.course_mentor}, Course Price: {self.course_price}\")\n",
    "        \n",
    "        \n",
    "    def update_price(self, new_price):\n",
    "        self.course_price = new_price\n",
    "        print(f\"Course Price updated to: {self.course_price}\")\n",
    "    \n",
    "    def enroll_student(self, student_name):\n",
    "        print(f\"{student_name} has enrolled in {self.course_name}\")\n",
    "        \n",
    "    def get_prices(self):\n",
    "        return self.__course_price"
   ]
  },
  {
   "cell_type": "code",
   "execution_count": 3,
   "metadata": {},
   "outputs": [
    {
     "data": {
      "text/plain": [
       "3453"
      ]
     },
     "execution_count": 3,
     "metadata": {},
     "output_type": "execute_result"
    }
   ],
   "source": [
    "prog_course3 = euron_course(\"big data\" ,\"sumanth\" , 3453)\n",
    "prog_course3.course_mentor\n",
    "prog_course3.course_name\n",
    "prog_course3.get_prices()"
   ]
  },
  {
   "cell_type": "code",
   "execution_count": 43,
   "metadata": {},
   "outputs": [],
   "source": [
    "# encapsulation is private , public , and protected "
   ]
  },
  {
   "cell_type": "code",
   "execution_count": 44,
   "metadata": {},
   "outputs": [],
   "source": [
    "# inheritance "
   ]
  },
  {
   "cell_type": "code",
   "execution_count": 45,
   "metadata": {},
   "outputs": [],
   "source": [
    "class a:\n",
    "    def __init__(self,course_name,course_mentor,course_price):\n",
    "        self.course_name = course_name\n",
    "        self.course_mentor = course_mentor\n",
    "        self.__course_price = course_price  \n",
    "\n",
    "          "
   ]
  },
  {
   "cell_type": "code",
   "execution_count": 46,
   "metadata": {},
   "outputs": [],
   "source": [
    "class b(a): # for constructor there is 2 approach 1 using super and another by creating same variable of the parent class in child class \n",
    "    def __init__(self,course_name,course_mentor,course_price,course_duration):\n",
    "        super().__init__(course_name,course_mentor,course_price)\n",
    "        self.course_duration = course_duration"
   ]
  },
  {
   "cell_type": "code",
   "execution_count": 4,
   "metadata": {},
   "outputs": [],
   "source": [
    "class euron :\n",
    "    def __init__(self, course_name, course_mentor, course_price):\n",
    "        self.course_name = course_name\n",
    "        self.course_mentor = course_mentor\n",
    "        self.course_price = course_price\n",
    "        \n",
    "    def display_course(self):\n",
    "        print(f\"Course Name: {self.course_name}, Course Mentor: {self.course_mentor}, Course Price: {self.course_price}\")\n",
    "        \n",
    "class euron_course(euron):\n",
    "    def __init__(self, course_name, course_mentor, course_price, course_duration):\n",
    "        super().__init__(course_name, course_mentor, course_price)\n",
    "        self.course_duration = course_duration\n",
    "        "
   ]
  },
  {
   "cell_type": "code",
   "execution_count": 5,
   "metadata": {},
   "outputs": [
    {
     "name": "stdout",
     "output_type": "stream",
     "text": [
      "Course Name: python, Course Mentor: sumanth, Course Price: 354\n"
     ]
    }
   ],
   "source": [
    "e1 = euron_course(\"python\" , \"sumanth\",354, 4)\n",
    "e1.display_course()"
   ]
  },
  {
   "cell_type": "code",
   "execution_count": 6,
   "metadata": {},
   "outputs": [],
   "source": [
    "class euronmentor:\n",
    "    def teach(self):\n",
    "        print(\"mentor teaching\")\n",
    "        \n",
    "class python_mentor(euronmentor):\n",
    "    def teach(self):\n",
    "        print(\"mentor teaching python\")\n",
    "        \n",
    "        \n",
    "class java_mentor(euronmentor):\n",
    "    def teach(self):\n",
    "        print(\"mentor takinig java class\")\n"
   ]
  },
  {
   "cell_type": "code",
   "execution_count": null,
   "metadata": {},
   "outputs": [],
   "source": []
  }
 ],
 "metadata": {
  "kernelspec": {
   "display_name": "Python 3",
   "language": "python",
   "name": "python3"
  },
  "language_info": {
   "codemirror_mode": {
    "name": "ipython",
    "version": 3
   },
   "file_extension": ".py",
   "mimetype": "text/x-python",
   "name": "python",
   "nbconvert_exporter": "python",
   "pygments_lexer": "ipython3",
   "version": "3.10.7"
  }
 },
 "nbformat": 4,
 "nbformat_minor": 2
}
