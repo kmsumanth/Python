{
 "cells": [
  {
   "cell_type": "code",
   "execution_count": 1,
   "metadata": {},
   "outputs": [],
   "source": [
    "# conditional statement "
   ]
  },
  {
   "cell_type": "code",
   "execution_count": 12,
   "metadata": {},
   "outputs": [
    {
     "name": "stdout",
     "output_type": "stream",
     "text": [
      "you can go now\n"
     ]
    }
   ],
   "source": [
    "light = 'green'\n",
    "if light == 'green':\n",
    "    print(\"you can go now\")\n",
    "elif light == 'red':\n",
    "    print(\"you have to stop now\")\n",
    "else:\n",
    "    print(\"you can start your vehicle now\")\n"
   ]
  },
  {
   "cell_type": "code",
   "execution_count": 13,
   "metadata": {},
   "outputs": [
    {
     "data": {
      "text/plain": [
       "'hi'"
      ]
     },
     "execution_count": 13,
     "metadata": {},
     "output_type": "execute_result"
    }
   ],
   "source": [
    "input(\"hi enter something\")"
   ]
  },
  {
   "cell_type": "code",
   "execution_count": 15,
   "metadata": {},
   "outputs": [
    {
     "name": "stdout",
     "output_type": "stream",
     "text": [
      "the entered light value is : red\n",
      "you have to stop now\n"
     ]
    }
   ],
   "source": [
    "light = input(\"Enter the light signal\")\n",
    "print(\"the entered light value is :\",light)\n",
    "if light == 'green':\n",
    "    print(\"you can go now\")\n",
    "elif light == 'red':\n",
    "    print(\"you have to stop now\")\n",
    "else:\n",
    "    print(\"you can start your vehicle now\")\n"
   ]
  },
  {
   "cell_type": "code",
   "execution_count": 16,
   "metadata": {},
   "outputs": [
    {
     "name": "stdout",
     "output_type": "stream",
     "text": [
      "Its a valid user and your are allowed to login\n"
     ]
    }
   ],
   "source": [
    "userid = input(\"Enter the username\")\n",
    "password = input(\"Enter the password\")\n",
    "\n",
    "if userid ==\"sumanth\" and password==\"admin\":\n",
    "    print(\"Its a valid user and your are allowed to login\")\n",
    "elif userid != \"sumanth\" and password != 'admin':\n",
    "    print(\"Both are incorrect\")\n",
    "elif userid != 'sumanth':\n",
    "    print('Please check your user id ')\n",
    "else :\n",
    "    print(\"you have incorrect password\")"
   ]
  },
  {
   "cell_type": "code",
   "execution_count": 17,
   "metadata": {},
   "outputs": [],
   "source": [
    "# odd or even number "
   ]
  },
  {
   "cell_type": "code",
   "execution_count": 18,
   "metadata": {},
   "outputs": [
    {
     "name": "stdout",
     "output_type": "stream",
     "text": [
      "Even\n"
     ]
    }
   ],
   "source": [
    "number = int(input(\"Enter a number\"))\n",
    "if number%2 == 0:\n",
    "    print(\"Even\")\n",
    "else:\n",
    "    print(\"odd\")"
   ]
  },
  {
   "cell_type": "code",
   "execution_count": 19,
   "metadata": {},
   "outputs": [
    {
     "name": "stdout",
     "output_type": "stream",
     "text": [
      "you will become mlops engineer\n"
     ]
    }
   ],
   "source": [
    "basic_course = input(\"Enter a course name\")\n",
    "advance_course = input(\"Enter the course name\")\n",
    "\n",
    "if basic_course == 'python':\n",
    "    if advance_course =='data science':\n",
    "        print(\"You will become a data scientist\")\n",
    "    elif advance_course == 'big data':\n",
    "        print(\"you will become data engineer\")\n",
    "    elif advance_course == \"data analytics\":\n",
    "        print(\"you will become data analyst\")\n",
    "    elif advance_course == 'mlops':\n",
    "        print(\"you will become mlops engineer\")\n",
    "    else:\n",
    "        print(\"you will become gen ai engineer\")\n",
    "elif basic_course == 'java script':\n",
    "    print(\"you will become a front end or backend engineer \")"
   ]
  },
  {
   "cell_type": "code",
   "execution_count": null,
   "metadata": {},
   "outputs": [],
   "source": []
  }
 ],
 "metadata": {
  "kernelspec": {
   "display_name": "Python 3",
   "language": "python",
   "name": "python3"
  },
  "language_info": {
   "codemirror_mode": {
    "name": "ipython",
    "version": 3
   },
   "file_extension": ".py",
   "mimetype": "text/x-python",
   "name": "python",
   "nbconvert_exporter": "python",
   "pygments_lexer": "ipython3",
   "version": "3.10.7"
  }
 },
 "nbformat": 4,
 "nbformat_minor": 2
}
